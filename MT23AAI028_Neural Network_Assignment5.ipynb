{
 "cells": [
  {
   "cell_type": "markdown",
   "id": "df10965e-2043-4abb-9cce-a0bba485aaca",
   "metadata": {},
   "source": [
    "# Step 1: Import Libraries"
   ]
  },
  {
   "cell_type": "code",
   "execution_count": 1,
   "id": "bcc1452d-931c-4c25-9980-437bcfba4fc9",
   "metadata": {},
   "outputs": [],
   "source": [
    "import numpy as np\n",
    "import tensorflow as tf\n",
    "from tensorflow.keras.models import Sequential\n",
    "from tensorflow.keras.layers import Dense, Flatten, Dropout\n",
    "from tensorflow.keras.optimizers import SGD, Adam, RMSprop\n",
    "from tensorflow.keras.datasets import mnist\n",
    "import matplotlib.pyplot as plt"
   ]
  },
  {
   "cell_type": "raw",
   "id": "87923a3e-9cea-4d45-b17c-bb58e1d36c47",
   "metadata": {},
   "source": [
    "Dataset Preparation: Using a dataset such as MNIST.\n",
    "Model Configurations: Varying network parameters (layers, neurons) and optimization methods (SGD, Adam, RMSprop).\n",
    "Evaluation: Comparing the models and selecting the best configuration based on validation accuracy.\n",
    "Visualization: Using plots to compare the performance metrics."
   ]
  },
  {
   "cell_type": "markdown",
   "id": "010092fc-6e34-43c3-8786-73d484b0c096",
   "metadata": {},
   "source": [
    "# Step 2: Load and Preprocess the Data"
   ]
  },
  {
   "cell_type": "code",
   "execution_count": 2,
   "id": "9ea236e9-b2ed-4991-87ac-46fb86fb4b90",
   "metadata": {},
   "outputs": [],
   "source": [
    "# Load dataset\n",
    "(x_train, y_train), (x_test, y_test) = mnist.load_data()\n",
    "\n",
    "# Normalize the data\n",
    "x_train = x_train / 255.0\n",
    "x_test = x_test / 255.0\n",
    "\n",
    "# Convert labels to one-hot encoding\n",
    "y_train = tf.keras.utils.to_categorical(y_train, 10)\n",
    "y_test = tf.keras.utils.to_categorical(y_test, 10)"
   ]
  },
  {
   "cell_type": "markdown",
   "id": "a5bd51cc-b6ae-46b6-bfca-9e47953a1e75",
   "metadata": {},
   "source": [
    "# Step 3: Define and Train Models with Different Configurations"
   ]
  },
  {
   "cell_type": "code",
   "execution_count": 4,
   "id": "db6e412f-a141-4e98-bf23-1da2032e8ecb",
   "metadata": {},
   "outputs": [
    {
     "name": "stderr",
     "output_type": "stream",
     "text": [
      "E:\\Anaconda\\Lib\\site-packages\\keras\\src\\layers\\reshaping\\flatten.py:37: UserWarning: Do not pass an `input_shape`/`input_dim` argument to a layer. When using Sequential models, prefer using an `Input(shape)` object as the first layer in the model instead.\n",
      "  super().__init__(**kwargs)\n"
     ]
    },
    {
     "name": "stdout",
     "output_type": "stream",
     "text": [
      "\n",
      "Training Model 1 with [128, 64] layers and SGD\n",
      "Epoch 1/10\n",
      "\u001b[1m1500/1500\u001b[0m \u001b[32m━━━━━━━━━━━━━━━━━━━━\u001b[0m\u001b[37m\u001b[0m \u001b[1m8s\u001b[0m 3ms/step - accuracy: 0.5399 - loss: 1.4393 - val_accuracy: 0.8996 - val_loss: 0.3679\n",
      "Epoch 2/10\n",
      "\u001b[1m1500/1500\u001b[0m \u001b[32m━━━━━━━━━━━━━━━━━━━━\u001b[0m\u001b[37m\u001b[0m \u001b[1m4s\u001b[0m 3ms/step - accuracy: 0.8521 - loss: 0.4932 - val_accuracy: 0.9186 - val_loss: 0.2821\n",
      "Epoch 3/10\n",
      "\u001b[1m1500/1500\u001b[0m \u001b[32m━━━━━━━━━━━━━━━━━━━━\u001b[0m\u001b[37m\u001b[0m \u001b[1m4s\u001b[0m 3ms/step - accuracy: 0.8822 - loss: 0.3984 - val_accuracy: 0.9312 - val_loss: 0.2383\n",
      "Epoch 4/10\n",
      "\u001b[1m1500/1500\u001b[0m \u001b[32m━━━━━━━━━━━━━━━━━━━━\u001b[0m\u001b[37m\u001b[0m \u001b[1m5s\u001b[0m 3ms/step - accuracy: 0.9031 - loss: 0.3361 - val_accuracy: 0.9385 - val_loss: 0.2128\n",
      "Epoch 5/10\n",
      "\u001b[1m1500/1500\u001b[0m \u001b[32m━━━━━━━━━━━━━━━━━━━━\u001b[0m\u001b[37m\u001b[0m \u001b[1m5s\u001b[0m 4ms/step - accuracy: 0.9104 - loss: 0.2982 - val_accuracy: 0.9453 - val_loss: 0.1916\n",
      "Epoch 6/10\n",
      "\u001b[1m1500/1500\u001b[0m \u001b[32m━━━━━━━━━━━━━━━━━━━━\u001b[0m\u001b[37m\u001b[0m \u001b[1m6s\u001b[0m 4ms/step - accuracy: 0.9231 - loss: 0.2670 - val_accuracy: 0.9488 - val_loss: 0.1777\n",
      "Epoch 7/10\n",
      "\u001b[1m1500/1500\u001b[0m \u001b[32m━━━━━━━━━━━━━━━━━━━━\u001b[0m\u001b[37m\u001b[0m \u001b[1m10s\u001b[0m 3ms/step - accuracy: 0.9273 - loss: 0.2506 - val_accuracy: 0.9524 - val_loss: 0.1670\n",
      "Epoch 8/10\n",
      "\u001b[1m1500/1500\u001b[0m \u001b[32m━━━━━━━━━━━━━━━━━━━━\u001b[0m\u001b[37m\u001b[0m \u001b[1m10s\u001b[0m 3ms/step - accuracy: 0.9348 - loss: 0.2243 - val_accuracy: 0.9567 - val_loss: 0.1541\n",
      "Epoch 9/10\n",
      "\u001b[1m1500/1500\u001b[0m \u001b[32m━━━━━━━━━━━━━━━━━━━━\u001b[0m\u001b[37m\u001b[0m \u001b[1m5s\u001b[0m 3ms/step - accuracy: 0.9374 - loss: 0.2115 - val_accuracy: 0.9575 - val_loss: 0.1460\n",
      "Epoch 10/10\n",
      "\u001b[1m1500/1500\u001b[0m \u001b[32m━━━━━━━━━━━━━━━━━━━━\u001b[0m\u001b[37m\u001b[0m \u001b[1m6s\u001b[0m 4ms/step - accuracy: 0.9433 - loss: 0.1957 - val_accuracy: 0.9607 - val_loss: 0.1390\n",
      "\n",
      "Training Model 2 with [256, 128] layers and Adam\n",
      "Epoch 1/10\n",
      "\u001b[1m1500/1500\u001b[0m \u001b[32m━━━━━━━━━━━━━━━━━━━━\u001b[0m\u001b[37m\u001b[0m \u001b[1m10s\u001b[0m 5ms/step - accuracy: 0.8436 - loss: 0.4967 - val_accuracy: 0.9589 - val_loss: 0.1370\n",
      "Epoch 2/10\n",
      "\u001b[1m1500/1500\u001b[0m \u001b[32m━━━━━━━━━━━━━━━━━━━━\u001b[0m\u001b[37m\u001b[0m \u001b[1m11s\u001b[0m 6ms/step - accuracy: 0.9561 - loss: 0.1403 - val_accuracy: 0.9684 - val_loss: 0.1045\n",
      "Epoch 3/10\n",
      "\u001b[1m1500/1500\u001b[0m \u001b[32m━━━━━━━━━━━━━━━━━━━━\u001b[0m\u001b[37m\u001b[0m \u001b[1m8s\u001b[0m 5ms/step - accuracy: 0.9690 - loss: 0.0966 - val_accuracy: 0.9722 - val_loss: 0.1023\n",
      "Epoch 4/10\n",
      "\u001b[1m1500/1500\u001b[0m \u001b[32m━━━━━━━━━━━━━━━━━━━━\u001b[0m\u001b[37m\u001b[0m \u001b[1m8s\u001b[0m 5ms/step - accuracy: 0.9768 - loss: 0.0768 - val_accuracy: 0.9744 - val_loss: 0.0840\n",
      "Epoch 5/10\n",
      "\u001b[1m1500/1500\u001b[0m \u001b[32m━━━━━━━━━━━━━━━━━━━━\u001b[0m\u001b[37m\u001b[0m \u001b[1m8s\u001b[0m 6ms/step - accuracy: 0.9788 - loss: 0.0638 - val_accuracy: 0.9711 - val_loss: 0.0991\n",
      "Epoch 6/10\n",
      "\u001b[1m1500/1500\u001b[0m \u001b[32m━━━━━━━━━━━━━━━━━━━━\u001b[0m\u001b[37m\u001b[0m \u001b[1m8s\u001b[0m 6ms/step - accuracy: 0.9838 - loss: 0.0520 - val_accuracy: 0.9751 - val_loss: 0.0899\n",
      "Epoch 7/10\n",
      "\u001b[1m1500/1500\u001b[0m \u001b[32m━━━━━━━━━━━━━━━━━━━━\u001b[0m\u001b[37m\u001b[0m \u001b[1m12s\u001b[0m 6ms/step - accuracy: 0.9836 - loss: 0.0518 - val_accuracy: 0.9765 - val_loss: 0.0907\n",
      "Epoch 8/10\n",
      "\u001b[1m1500/1500\u001b[0m \u001b[32m━━━━━━━━━━━━━━━━━━━━\u001b[0m\u001b[37m\u001b[0m \u001b[1m9s\u001b[0m 6ms/step - accuracy: 0.9848 - loss: 0.0449 - val_accuracy: 0.9747 - val_loss: 0.0905\n",
      "Epoch 9/10\n",
      "\u001b[1m1500/1500\u001b[0m \u001b[32m━━━━━━━━━━━━━━━━━━━━\u001b[0m\u001b[37m\u001b[0m \u001b[1m8s\u001b[0m 5ms/step - accuracy: 0.9867 - loss: 0.0409 - val_accuracy: 0.9790 - val_loss: 0.0855\n",
      "Epoch 10/10\n",
      "\u001b[1m1500/1500\u001b[0m \u001b[32m━━━━━━━━━━━━━━━━━━━━\u001b[0m\u001b[37m\u001b[0m \u001b[1m10s\u001b[0m 7ms/step - accuracy: 0.9872 - loss: 0.0379 - val_accuracy: 0.9759 - val_loss: 0.0957\n",
      "\n",
      "Training Model 3 with [128, 128, 64] layers and RMSprop\n",
      "Epoch 1/10\n",
      "\u001b[1m1500/1500\u001b[0m \u001b[32m━━━━━━━━━━━━━━━━━━━━\u001b[0m\u001b[37m\u001b[0m \u001b[1m9s\u001b[0m 5ms/step - accuracy: 0.7970 - loss: 0.6383 - val_accuracy: 0.9551 - val_loss: 0.1601\n",
      "Epoch 2/10\n",
      "\u001b[1m1500/1500\u001b[0m \u001b[32m━━━━━━━━━━━━━━━━━━━━\u001b[0m\u001b[37m\u001b[0m \u001b[1m7s\u001b[0m 4ms/step - accuracy: 0.9470 - loss: 0.1969 - val_accuracy: 0.9649 - val_loss: 0.1344\n",
      "Epoch 3/10\n",
      "\u001b[1m1500/1500\u001b[0m \u001b[32m━━━━━━━━━━━━━━━━━━━━\u001b[0m\u001b[37m\u001b[0m \u001b[1m9s\u001b[0m 4ms/step - accuracy: 0.9577 - loss: 0.1586 - val_accuracy: 0.9697 - val_loss: 0.1243\n",
      "Epoch 4/10\n",
      "\u001b[1m1500/1500\u001b[0m \u001b[32m━━━━━━━━━━━━━━━━━━━━\u001b[0m\u001b[37m\u001b[0m \u001b[1m5s\u001b[0m 3ms/step - accuracy: 0.9628 - loss: 0.1403 - val_accuracy: 0.9677 - val_loss: 0.1284\n",
      "Epoch 5/10\n",
      "\u001b[1m1500/1500\u001b[0m \u001b[32m━━━━━━━━━━━━━━━━━━━━\u001b[0m\u001b[37m\u001b[0m \u001b[1m5s\u001b[0m 3ms/step - accuracy: 0.9661 - loss: 0.1307 - val_accuracy: 0.9719 - val_loss: 0.1305\n",
      "Epoch 6/10\n",
      "\u001b[1m1500/1500\u001b[0m \u001b[32m━━━━━━━━━━━━━━━━━━━━\u001b[0m\u001b[37m\u001b[0m \u001b[1m5s\u001b[0m 4ms/step - accuracy: 0.9683 - loss: 0.1297 - val_accuracy: 0.9727 - val_loss: 0.1333\n",
      "Epoch 7/10\n",
      "\u001b[1m1500/1500\u001b[0m \u001b[32m━━━━━━━━━━━━━━━━━━━━\u001b[0m\u001b[37m\u001b[0m \u001b[1m5s\u001b[0m 3ms/step - accuracy: 0.9700 - loss: 0.1207 - val_accuracy: 0.9736 - val_loss: 0.1239\n",
      "Epoch 8/10\n",
      "\u001b[1m1500/1500\u001b[0m \u001b[32m━━━━━━━━━━━━━━━━━━━━\u001b[0m\u001b[37m\u001b[0m \u001b[1m5s\u001b[0m 3ms/step - accuracy: 0.9717 - loss: 0.1217 - val_accuracy: 0.9739 - val_loss: 0.1324\n",
      "Epoch 9/10\n",
      "\u001b[1m1500/1500\u001b[0m \u001b[32m━━━━━━━━━━━━━━━━━━━━\u001b[0m\u001b[37m\u001b[0m \u001b[1m5s\u001b[0m 3ms/step - accuracy: 0.9733 - loss: 0.1160 - val_accuracy: 0.9751 - val_loss: 0.1273\n",
      "Epoch 10/10\n",
      "\u001b[1m1500/1500\u001b[0m \u001b[32m━━━━━━━━━━━━━━━━━━━━\u001b[0m\u001b[37m\u001b[0m \u001b[1m5s\u001b[0m 3ms/step - accuracy: 0.9737 - loss: 0.1170 - val_accuracy: 0.9730 - val_loss: 0.1464\n"
     ]
    }
   ],
   "source": [
    "# Define configurations\n",
    "configurations = [\n",
    "    {\"layers\": [128, 64], \"optimizer\": SGD(learning_rate=0.01)},\n",
    "    {\"layers\": [256, 128], \"optimizer\": Adam(learning_rate=0.001)},\n",
    "    {\"layers\": [128, 128, 64], \"optimizer\": RMSprop(learning_rate=0.001)},\n",
    "]\n",
    "\n",
    "results = {}\n",
    "\n",
    "for i, config in enumerate(configurations):\n",
    "    model = Sequential()\n",
    "    model.add(Flatten(input_shape=(28, 28)))\n",
    "    for neurons in config[\"layers\"]:\n",
    "        model.add(Dense(neurons, activation='relu'))\n",
    "        model.add(Dropout(0.2))\n",
    "    model.add(Dense(10, activation='softmax'))\n",
    "\n",
    "    model.compile(optimizer=config[\"optimizer\"],\n",
    "                  loss='categorical_crossentropy',\n",
    "                  metrics=['accuracy'])\n",
    "\n",
    "    print(f\"\\nTraining Model {i+1} with {config['layers']} layers and {type(config['optimizer']).__name__}\")\n",
    "    history = model.fit(x_train, y_train, epochs=10, validation_split=0.2, batch_size=32, verbose=1)\n",
    "\n",
    "    # Store results\n",
    "    results[f\"Model_{i+1}\"] = {\n",
    "        \"model\": model,\n",
    "        \"history\": history.history\n",
    "    }"
   ]
  },
  {
   "cell_type": "markdown",
   "id": "b61a384e-8edb-4ba0-875b-a40e416c7800",
   "metadata": {},
   "source": [
    "# Step 4: Evaluate and Visualize the Results"
   ]
  },
  {
   "cell_type": "code",
   "execution_count": 5,
   "id": "9132ec94-b10f-46b5-af2d-86c0ccb1472c",
   "metadata": {},
   "outputs": [
    {
     "data": {
      "image/png": "[encoded data removed]",
      "text/plain": [
       "<Figure size 1400x600 with 2 Axes>"
      ]
     },
     "metadata": {},
     "output_type": "display_data"
    },
    {
     "name": "stdout",
     "output_type": "stream",
     "text": [
      "Model_1: Test Accuracy = 0.9600, Test Loss = 0.1345\n",
      "Model_2: Test Accuracy = 0.9797, Test Loss = 0.0761\n",
      "Model_3: Test Accuracy = 0.9728, Test Loss = 0.1233\n"
     ]
    }
   ],
   "source": [
    "# Plot accuracy and loss\n",
    "plt.figure(figsize=(14, 6))\n",
    "\n",
    "for i, (key, result) in enumerate(results.items()):\n",
    "    history = result[\"history\"]\n",
    "    # Accuracy plot\n",
    "    plt.subplot(1, 2, 1)\n",
    "    plt.plot(history['accuracy'], label=f\"{key} Train\")\n",
    "    plt.plot(history['val_accuracy'], label=f\"{key} Val\")\n",
    "    plt.title(\"Model Accuracy\")\n",
    "    plt.xlabel(\"Epochs\")\n",
    "    plt.ylabel(\"Accuracy\")\n",
    "    plt.legend()\n",
    "\n",
    "    # Loss plot\n",
    "    plt.subplot(1, 2, 2)\n",
    "    plt.plot(history['loss'], label=f\"{key} Train\")\n",
    "    plt.plot(history['val_loss'], label=f\"{key} Val\")\n",
    "    plt.title(\"Model Loss\")\n",
    "    plt.xlabel(\"Epochs\")\n",
    "    plt.ylabel(\"Loss\")\n",
    "    plt.legend()\n",
    "\n",
    "plt.tight_layout()\n",
    "plt.show()\n",
    "\n",
    "# Evaluate the best model\n",
    "for key, result in results.items():\n",
    "    test_loss, test_acc = result[\"model\"].evaluate(x_test, y_test, verbose=0)\n",
    "    print(f\"{key}: Test Accuracy = {test_acc:.4f}, Test Loss = {test_loss:.4f}\")"
   ]
  },
  {
   "cell_type": "code",
   "execution_count": 6,
   "id": "c9c3d08a-4452-443d-a6b5-7ff21c196b7d",
   "metadata": {},
   "outputs": [],
   "source": [
    "#!pip install keras_tuner"
   ]
  },
  {
   "cell_type": "raw",
   "id": "4ef6c3e5-630b-4719-bf14-6102ff0fa870",
   "metadata": {},
   "source": [
    "Explanation of Steps:\n",
    "Configurations: Different layer sizes and optimizers are tested.\n",
    "Visualization: Training and validation accuracy/loss are plotted for all models.\n",
    "Evaluation: Best model is selected based on test accuracy."
   ]
  },
  {
   "cell_type": "raw",
   "id": "477b0312-1406-4aaf-affd-5e2b006f1adc",
   "metadata": {},
   "source": [
    "Hyperparameter Tuning: Use libraries like Optuna or Keras Tuner to automate finding the best configuration.\n",
    "Custom Layers and Loss Functions: Create custom layers or loss functions for specific needs.\n",
    "Transfer Learning: Use pre-trained models and fine-tune them for better results.\n",
    "Explainability and Visualizations: Use Grad-CAM or similar techniques to visualize feature importance.\n",
    "Ensemble Models: Combine the predictions of multiple models for improved accuracy."
   ]
  },
  {
   "cell_type": "markdown",
   "id": "c9ba0845-8c0c-4d28-a170-a51e445fa5b2",
   "metadata": {},
   "source": [
    "# Advanced Step 1: Hyperparameter Tuning with Keras Tuner"
   ]
  },
  {
   "cell_type": "code",
   "execution_count": 9,
   "id": "b0f1edb7-b2bd-4cae-b8a1-81e63191c2ff",
   "metadata": {},
   "outputs": [
    {
     "name": "stdout",
     "output_type": "stream",
     "text": [
      "Reloading Tuner from tuner_results\\mnist_tuning\\tuner0.json\n",
      "\n",
      "Best Hyperparameters:\n",
      "num_layers: 3\n",
      "units_0: 192\n",
      "dropout_0: 0.30000000000000004\n",
      "optimizer: rmsprop\n",
      "units_1: 128\n",
      "dropout_1: 0.1\n",
      "units_2: 256\n",
      "dropout_2: 0.4\n",
      "tuner/epochs: 10\n",
      "tuner/initial_epoch: 0\n",
      "tuner/bracket: 0\n",
      "tuner/round: 0\n"
     ]
    },
    {
     "name": "stderr",
     "output_type": "stream",
     "text": [
      "E:\\Anaconda\\Lib\\site-packages\\keras\\src\\layers\\reshaping\\flatten.py:37: UserWarning: Do not pass an `input_shape`/`input_dim` argument to a layer. When using Sequential models, prefer using an `Input(shape)` object as the first layer in the model instead.\n",
      "  super().__init__(**kwargs)\n"
     ]
    },
    {
     "name": "stdout",
     "output_type": "stream",
     "text": [
      "Epoch 1/10\n",
      "\u001b[1m1500/1500\u001b[0m \u001b[32m━━━━━━━━━━━━━━━━━━━━\u001b[0m\u001b[37m\u001b[0m \u001b[1m9s\u001b[0m 5ms/step - accuracy: 0.8156 - loss: 0.5824 - val_accuracy: 0.9556 - val_loss: 0.1585\n",
      "Epoch 2/10\n",
      "\u001b[1m1500/1500\u001b[0m \u001b[32m━━━━━━━━━━━━━━━━━━━━\u001b[0m\u001b[37m\u001b[0m \u001b[1m10s\u001b[0m 5ms/step - accuracy: 0.9477 - loss: 0.1941 - val_accuracy: 0.9695 - val_loss: 0.1182\n",
      "Epoch 3/10\n",
      "\u001b[1m1500/1500\u001b[0m \u001b[32m━━━━━━━━━━━━━━━━━━━━\u001b[0m\u001b[37m\u001b[0m \u001b[1m7s\u001b[0m 4ms/step - accuracy: 0.9558 - loss: 0.1642 - val_accuracy: 0.9716 - val_loss: 0.1166\n",
      "Epoch 4/10\n",
      "\u001b[1m1500/1500\u001b[0m \u001b[32m━━━━━━━━━━━━━━━━━━━━\u001b[0m\u001b[37m\u001b[0m \u001b[1m7s\u001b[0m 5ms/step - accuracy: 0.9621 - loss: 0.1540 - val_accuracy: 0.9700 - val_loss: 0.1244\n",
      "Epoch 5/10\n",
      "\u001b[1m1500/1500\u001b[0m \u001b[32m━━━━━━━━━━━━━━━━━━━━\u001b[0m\u001b[37m\u001b[0m \u001b[1m7s\u001b[0m 5ms/step - accuracy: 0.9662 - loss: 0.1428 - val_accuracy: 0.9733 - val_loss: 0.1178\n",
      "Epoch 6/10\n",
      "\u001b[1m1500/1500\u001b[0m \u001b[32m━━━━━━━━━━━━━━━━━━━━\u001b[0m\u001b[37m\u001b[0m \u001b[1m10s\u001b[0m 5ms/step - accuracy: 0.9659 - loss: 0.1482 - val_accuracy: 0.9725 - val_loss: 0.1244\n",
      "Epoch 7/10\n",
      "\u001b[1m1500/1500\u001b[0m \u001b[32m━━━━━━━━━━━━━━━━━━━━\u001b[0m\u001b[37m\u001b[0m \u001b[1m10s\u001b[0m 5ms/step - accuracy: 0.9695 - loss: 0.1389 - val_accuracy: 0.9742 - val_loss: 0.1333\n",
      "Epoch 8/10\n",
      "\u001b[1m1500/1500\u001b[0m \u001b[32m━━━━━━━━━━━━━━━━━━━━\u001b[0m\u001b[37m\u001b[0m \u001b[1m7s\u001b[0m 5ms/step - accuracy: 0.9690 - loss: 0.1398 - val_accuracy: 0.9749 - val_loss: 0.1525\n",
      "Epoch 9/10\n",
      "\u001b[1m1500/1500\u001b[0m \u001b[32m━━━━━━━━━━━━━━━━━━━━\u001b[0m\u001b[37m\u001b[0m \u001b[1m7s\u001b[0m 5ms/step - accuracy: 0.9697 - loss: 0.1343 - val_accuracy: 0.9741 - val_loss: 0.1502\n",
      "Epoch 10/10\n",
      "\u001b[1m1500/1500\u001b[0m \u001b[32m━━━━━━━━━━━━━━━━━━━━\u001b[0m\u001b[37m\u001b[0m \u001b[1m7s\u001b[0m 4ms/step - accuracy: 0.9714 - loss: 0.1288 - val_accuracy: 0.9737 - val_loss: 0.1495\n"
     ]
    }
   ],
   "source": [
    "import keras_tuner as kt\n",
    "\n",
    "# Define the model building function\n",
    "def build_model(hp):\n",
    "    model = Sequential()\n",
    "    model.add(Flatten(input_shape=(28, 28)))\n",
    "\n",
    "    # Tune the number of layers and neurons\n",
    "    for i in range(hp.Int('num_layers', 1, 3)):\n",
    "        model.add(Dense(hp.Int(f'units_{i}', min_value=64, max_value=256, step=64),\n",
    "                        activation='relu'))\n",
    "        model.add(Dropout(hp.Float(f'dropout_{i}', min_value=0.1, max_value=0.5, step=0.1)))\n",
    "\n",
    "    model.add(Dense(10, activation='softmax'))\n",
    "\n",
    "    # Tune the optimizer\n",
    "    optimizer = hp.Choice('optimizer', ['adam', 'sgd', 'rmsprop'])\n",
    "    model.compile(optimizer=optimizer,\n",
    "                  loss='categorical_crossentropy',\n",
    "                  metrics=['accuracy'])\n",
    "    return model\n",
    "\n",
    "# Initialize the tuner\n",
    "tuner = kt.Hyperband(build_model,\n",
    "                     objective='val_accuracy',\n",
    "                     max_epochs=10,\n",
    "                     factor=3,\n",
    "                     directory='tuner_results',\n",
    "                     project_name='mnist_tuning')\n",
    "\n",
    "# Perform hyperparameter search\n",
    "tuner.search(x_train, y_train, validation_split=0.2, epochs=10, batch_size=32)\n",
    "best_hps = tuner.get_best_hyperparameters(num_trials=1)[0]\n",
    "\n",
    "print(\"\\nBest Hyperparameters:\")\n",
    "for param in best_hps.values:\n",
    "    print(f\"{param}: {best_hps.values[param]}\")\n",
    "\n",
    "# Train the best model\n",
    "best_model = tuner.hypermodel.build(best_hps)\n",
    "history = best_model.fit(x_train, y_train, validation_split=0.2, epochs=10, batch_size=32)"
   ]
  },
  {
   "cell_type": "code",
   "execution_count": 10,
   "id": "327b3453-277a-4a48-9d17-166bd0884ee9",
   "metadata": {},
   "outputs": [
    {
     "name": "stdout",
     "output_type": "stream",
     "text": [
      "Reloading Tuner from tuner_results\\mnist_tuning\\tuner0.json\n",
      "\n",
      "Best Hyperparameters:\n",
      "num_layers: 3\n",
      "units_0: 192\n",
      "dropout_0: 0.30000000000000004\n",
      "optimizer: rmsprop\n",
      "units_1: 128\n",
      "dropout_1: 0.1\n",
      "units_2: 256\n",
      "dropout_2: 0.4\n",
      "tuner/epochs: 10\n",
      "tuner/initial_epoch: 0\n",
      "tuner/bracket: 0\n",
      "tuner/round: 0\n",
      "Epoch 1/10\n",
      "\u001b[1m1500/1500\u001b[0m \u001b[32m━━━━━━━━━━━━━━━━━━━━\u001b[0m\u001b[37m\u001b[0m \u001b[1m9s\u001b[0m 5ms/step - accuracy: 0.8137 - loss: 0.5872 - val_accuracy: 0.9575 - val_loss: 0.1524\n",
      "Epoch 2/10\n",
      "\u001b[1m1500/1500\u001b[0m \u001b[32m━━━━━━━━━━━━━━━━━━━━\u001b[0m\u001b[37m\u001b[0m \u001b[1m7s\u001b[0m 5ms/step - accuracy: 0.9483 - loss: 0.1865 - val_accuracy: 0.9684 - val_loss: 0.1218\n",
      "Epoch 3/10\n",
      "\u001b[1m1500/1500\u001b[0m \u001b[32m━━━━━━━━━━━━━━━━━━━━\u001b[0m\u001b[37m\u001b[0m \u001b[1m7s\u001b[0m 5ms/step - accuracy: 0.9573 - loss: 0.1608 - val_accuracy: 0.9704 - val_loss: 0.1233\n",
      "Epoch 4/10\n",
      "\u001b[1m1500/1500\u001b[0m \u001b[32m━━━━━━━━━━━━━━━━━━━━\u001b[0m\u001b[37m\u001b[0m \u001b[1m7s\u001b[0m 4ms/step - accuracy: 0.9612 - loss: 0.1488 - val_accuracy: 0.9671 - val_loss: 0.1281\n",
      "Epoch 5/10\n",
      "\u001b[1m1500/1500\u001b[0m \u001b[32m━━━━━━━━━━━━━━━━━━━━\u001b[0m\u001b[37m\u001b[0m \u001b[1m11s\u001b[0m 5ms/step - accuracy: 0.9667 - loss: 0.1454 - val_accuracy: 0.9737 - val_loss: 0.1264\n",
      "Epoch 6/10\n",
      "\u001b[1m1500/1500\u001b[0m \u001b[32m━━━━━━━━━━━━━━━━━━━━\u001b[0m\u001b[37m\u001b[0m \u001b[1m7s\u001b[0m 5ms/step - accuracy: 0.9672 - loss: 0.1345 - val_accuracy: 0.9740 - val_loss: 0.1420\n",
      "Epoch 7/10\n",
      "\u001b[1m1500/1500\u001b[0m \u001b[32m━━━━━━━━━━━━━━━━━━━━\u001b[0m\u001b[37m\u001b[0m \u001b[1m7s\u001b[0m 5ms/step - accuracy: 0.9678 - loss: 0.1444 - val_accuracy: 0.9740 - val_loss: 0.1335\n",
      "Epoch 8/10\n",
      "\u001b[1m1500/1500\u001b[0m \u001b[32m━━━━━━━━━━━━━━━━━━━━\u001b[0m\u001b[37m\u001b[0m \u001b[1m7s\u001b[0m 5ms/step - accuracy: 0.9718 - loss: 0.1329 - val_accuracy: 0.9752 - val_loss: 0.1340\n",
      "Epoch 9/10\n",
      "\u001b[1m1500/1500\u001b[0m \u001b[32m━━━━━━━━━━━━━━━━━━━━\u001b[0m\u001b[37m\u001b[0m \u001b[1m7s\u001b[0m 5ms/step - accuracy: 0.9722 - loss: 0.1265 - val_accuracy: 0.9744 - val_loss: 0.1258\n",
      "Epoch 10/10\n",
      "\u001b[1m1500/1500\u001b[0m \u001b[32m━━━━━━━━━━━━━━━━━━━━\u001b[0m\u001b[37m\u001b[0m \u001b[1m8s\u001b[0m 5ms/step - accuracy: 0.9724 - loss: 0.1290 - val_accuracy: 0.9756 - val_loss: 0.1462\n"
     ]
    },
    {
     "name": "stderr",
     "output_type": "stream",
     "text": [
      "WARNING:absl:You are saving your model as an HDF5 file via `model.save()` or `keras.saving.save_model(model)`. This file format is considered legacy. We recommend using instead the native Keras format, e.g. `model.save('my_model.keras')` or `keras.saving.save_model(model, 'my_model.keras')`. \n"
     ]
    }
   ],
   "source": [
    "import keras_tuner as kt\n",
    "from tensorflow.keras.models import Sequential\n",
    "from tensorflow.keras.layers import Flatten, Dense, Dropout\n",
    "from tensorflow.keras.optimizers import Adam, SGD, RMSprop\n",
    "\n",
    "# Define the model building function\n",
    "def build_model(hp):\n",
    "    model = Sequential()\n",
    "    model.add(Flatten(input_shape=(28, 28)))\n",
    "\n",
    "    # Tune the number of layers and neurons\n",
    "    for i in range(hp.Int('num_layers', 1, 3)):  # Tune number of layers (1 to 2)\n",
    "        model.add(Dense(\n",
    "            hp.Int(f'units_{i}', min_value=64, max_value=256, step=64),  # Tune neurons\n",
    "            activation='relu'\n",
    "        ))\n",
    "        model.add(Dropout(\n",
    "            hp.Float(f'dropout_{i}', min_value=0.1, max_value=0.5, step=0.1)  # Tune dropout\n",
    "        ))\n",
    "\n",
    "    model.add(Dense(10, activation='softmax'))\n",
    "\n",
    "    # Tune optimizer\n",
    "    optimizer = hp.Choice('optimizer', ['adam', 'sgd', 'rmsprop'])\n",
    "    if optimizer == 'adam':\n",
    "        optimizer_instance = Adam()\n",
    "    elif optimizer == 'sgd':\n",
    "        optimizer_instance = SGD()\n",
    "    else:\n",
    "        optimizer_instance = RMSprop()\n",
    "\n",
    "    model.compile(\n",
    "        optimizer=optimizer_instance,\n",
    "        loss='categorical_crossentropy',\n",
    "        metrics=['accuracy']\n",
    "    )\n",
    "    return model\n",
    "\n",
    "# Initialize the tuner\n",
    "tuner = kt.Hyperband(\n",
    "    build_model,\n",
    "    objective='val_accuracy',\n",
    "    max_epochs=10,  # Max epochs for each trial\n",
    "    factor=3,  # Reduction factor for resources\n",
    "    directory='tuner_results',\n",
    "    project_name='mnist_tuning'\n",
    ")\n",
    "\n",
    "# Perform hyperparameter search\n",
    "tuner.search(\n",
    "    x_train, y_train,\n",
    "    validation_split=0.2,\n",
    "    epochs=10,  # Total epochs per trial\n",
    "    batch_size=32,\n",
    "    verbose=1  # Show progress\n",
    ")\n",
    "\n",
    "# Get the best hyperparameters\n",
    "best_hps = tuner.get_best_hyperparameters(num_trials=1)[0]\n",
    "\n",
    "# Display best hyperparameters\n",
    "print(\"\\nBest Hyperparameters:\")\n",
    "for param, value in best_hps.values.items():\n",
    "    print(f\"{param}: {value}\")\n",
    "\n",
    "# Build the model with the best hyperparameters\n",
    "best_model = tuner.hypermodel.build(best_hps)\n",
    "\n",
    "# Train the best model on the full training data\n",
    "history = best_model.fit(\n",
    "    x_train, y_train,\n",
    "    validation_split=0.2,\n",
    "    epochs=10,  # Final training epochs\n",
    "    batch_size=32\n",
    ")\n",
    "\n",
    "# Save the best model\n",
    "best_model.save('best_mnist_model.h5')\n"
   ]
  },
  {
   "cell_type": "markdown",
   "id": "9d4d18ad-3c6f-49bc-af78-d7039ef14014",
   "metadata": {},
   "source": [
    "# Advanced Step 2: Explainability with Grad-CAM"
   ]
  },
  {
   "cell_type": "markdown",
   "id": "e91a4f4a-bc67-4f45-8fc6-cd6f9d0cc6f2",
   "metadata": {},
   "source": [
    "# !pip install opencv-python"
   ]
  },
  {
   "cell_type": "code",
   "execution_count": 14,
   "id": "5081edf8-e1bd-496c-9b89-8ca7b8b867c3",
   "metadata": {},
   "outputs": [
    {
     "name": "stdout",
     "output_type": "stream",
     "text": [
      "\u001b[1m1/1\u001b[0m \u001b[32m━━━━━━━━━━━━━━━━━━━━\u001b[0m\u001b[37m\u001b[0m \u001b[1m0s\u001b[0m 57ms/step\n"
     ]
    },
    {
     "data": {
      "image/png": "[encoded data removed]",
      "text/plain": [
       "<Figure size 640x480 with 1 Axes>"
      ]
     },
     "metadata": {},
     "output_type": "display_data"
    }
   ],
   "source": [
    "def integrated_gradients(model, img, target_class_idx, baseline=None, steps=50):\n",
    "    \"\"\"\n",
    "    Compute Integrated Gradients for a given image and model.\n",
    "\n",
    "    Parameters:\n",
    "    - model: Trained Keras model\n",
    "    - img: Input image (preprocessed)\n",
    "    - target_class_idx: Index of the target class\n",
    "    - baseline: Baseline image (default is black image)\n",
    "    - steps: Number of steps for interpolation\n",
    "\n",
    "    Returns:\n",
    "    - Integrated gradients as a numpy array\n",
    "    \"\"\"\n",
    "    if baseline is None:\n",
    "        baseline = np.zeros_like(img)  # Use a black image as baseline\n",
    "\n",
    "    # Scale input and baseline\n",
    "    img = tf.cast(img, tf.float32)\n",
    "    baseline = tf.cast(baseline, tf.float32)\n",
    "\n",
    "    # Interpolate images\n",
    "    interpolated_images = [\n",
    "        baseline + (float(i) / steps) * (img - baseline)\n",
    "        for i in range(steps + 1)\n",
    "    ]\n",
    "    interpolated_images = tf.convert_to_tensor(interpolated_images)\n",
    "\n",
    "    with tf.GradientTape() as tape:\n",
    "        tape.watch(interpolated_images)\n",
    "        preds = model(interpolated_images)\n",
    "        loss = preds[:, target_class_idx]\n",
    "\n",
    "    grads = tape.gradient(loss, interpolated_images)\n",
    "    avg_grads = tf.reduce_mean(grads, axis=0).numpy()\n",
    "\n",
    "    # Integrated gradients\n",
    "    integrated_grads = (img - baseline) * avg_grads\n",
    "    return integrated_grads\n",
    "\n",
    "# Ensure example_img has the correct shape\n",
    "if len(example_img.shape) == 3 and example_img.shape[-1] == 3:  # RGB image\n",
    "    example_img = example_img.astype(\"float32\") / 255.0  # Normalize\n",
    "\n",
    "elif len(example_img.shape) == 2:  # Grayscale image\n",
    "    example_img = example_img.astype(\"float32\") / 255.0\n",
    "else:\n",
    "    raise ValueError(f\"Invalid input shape: {example_img.shape}\")\n",
    "\n",
    "# Compute integrated gradients\n",
    "target_class = np.argmax(best_model.predict(np.expand_dims(example_img, axis=0)))\n",
    "integrated_grads = integrated_gradients(best_model, example_img, target_class)\n",
    "\n",
    "# Ensure gradients have the same shape as input\n",
    "if len(integrated_grads.shape) == 3:  # RGB image\n",
    "    visualization = np.mean(integrated_grads, axis=-1)  # Average over color channels\n",
    "elif len(integrated_grads.shape) == 2:  # Grayscale image\n",
    "    visualization = integrated_grads\n",
    "else:\n",
    "    raise ValueError(f\"Invalid integrated gradients shape: {integrated_grads.shape}\")\n",
    "\n",
    "# Visualize\n",
    "plt.imshow(visualization, cmap='viridis')\n",
    "plt.title(\"Integrated Gradients\")\n",
    "plt.axis('off')\n",
    "plt.show()\n"
   ]
  },
  {
   "cell_type": "raw",
   "id": "30e3e49f-c93b-4851-b03e-e5b1bb6a300e",
   "metadata": {},
   "source": [
    "Highlights of This Advanced Implementation:\n",
    "Hyperparameter Tuning:\n",
    "Automatically finds the best number of layers, neurons, optimizers, and dropout rates.\n",
    "Uses Keras Tuner for efficiency.\n",
    "Explainability:\n",
    "Visualizes the important features contributing to predictions with Grad-CAM.\n",
    "Ensemble Models:\n",
    "Combines multiple models for robust and improved performance."
   ]
  },
  {
   "cell_type": "markdown",
   "id": "2dd4efd5-ece5-45ec-b2a2-c7c0d598b345",
   "metadata": {},
   "source": [
    "# Image Classification using MNIST Dataset\n",
    "\n",
    "# load dataset\n",
    "\n",
    "# observed shape of the dataset\n",
    "\n",
    "# view few images\n",
    "\n",
    "# model building"
   ]
  },
  {
   "cell_type": "code",
   "execution_count": 24,
   "id": "33c3a99a-5eb8-46e1-b767-e1665c565154",
   "metadata": {},
   "outputs": [],
   "source": [
    "import tensorflow as tf\n",
    "import matplotlib.pyplot as plt\n",
    "import numpy as np"
   ]
  },
  {
   "cell_type": "code",
   "execution_count": 25,
   "id": "2f74ca59-ab58-49de-a326-5d37b33777fd",
   "metadata": {},
   "outputs": [],
   "source": [
    "(trainX,trainY),(testX,testY) = tf.keras.datasets.mnist.load_data()"
   ]
  },
  {
   "cell_type": "code",
   "execution_count": 26,
   "id": "e622160d-02e4-4214-9f1e-cd463293c42a",
   "metadata": {},
   "outputs": [
    {
     "name": "stdout",
     "output_type": "stream",
     "text": [
      "(60000, 28, 28)\n",
      "(60000,)\n",
      "(10000, 28, 28)\n",
      "(10000,)\n"
     ]
    }
   ],
   "source": [
    "print(trainX.shape)  #total 60000 images easch with size 28*28 pixels\n",
    "print(trainY.shape)\n",
    "print(testX.shape)\n",
    "print(testY.shape)"
   ]
  },
  {
   "cell_type": "code",
   "execution_count": 27,
   "id": "74e1f175-3d50-40df-ac79-0d2ace4218f8",
   "metadata": {},
   "outputs": [
    {
     "data": {
      "text/plain": [
       "array([[  0,   0,   0,   0,   0,   0,   0,   0,   0,   0,   0,   0,   0,   0,   0,   0,   0,   0,   0,   0,   0,   0,   0,   0,   0,   0,   0,   0],\n",
       "       [  0,   0,   0,   0,   0,   0,   0,   0,   0,   0,   0,   0,   0,   0,   0,   0,   0,   0,   0,   0,   0,   0,   0,   0,   0,   0,   0,   0],\n",
       "       [  0,   0,   0,   0,   0,   0,   0,   0,   0,   0,   0,   0,   0,   0,   0,   0,   0,   0,   0,   0,   0,   0,   0,   0,   0,   0,   0,   0],\n",
       "       [  0,   0,   0,   0,   0,   0,   0,   0,   0,   0,   0,   0,   0,   0,   0,   0,   0,   0,   0,   0,   0,   0,   0,   0,   0,   0,   0,   0],\n",
       "       [  0,   0,   0,   0,   0,   0,   0,   0,   0,   0,   0,   0,   0,   0,   0,   0,   0,   0,   0,   0,   0,   0,   0,   0,   0,   0,   0,   0],\n",
       "       [  0,   0,   0,   0,   0,   0,   0,   0,   0,   0,   0,   0,   3,  18,  18,  18, 126, 136, 175,  26, 166, 255, 247, 127,   0,   0,   0,   0],\n",
       "       [  0,   0,   0,   0,   0,   0,   0,   0,  30,  36,  94, 154, 170, 253, 253, 253, 253, 253, 225, 172, 253, 242, 195,  64,   0,   0,   0,   0],\n",
       "       [  0,   0,   0,   0,   0,   0,   0,  49, 238, 253, 253, 253, 253, 253, 253, 253, 253, 251,  93,  82,  82,  56,  39,   0,   0,   0,   0,   0],\n",
       "       [  0,   0,   0,   0,   0,   0,   0,  18, 219, 253, 253, 253, 253, 253, 198, 182, 247, 241,   0,   0,   0,   0,   0,   0,   0,   0,   0,   0],\n",
       "       [  0,   0,   0,   0,   0,   0,   0,   0,  80, 156, 107, 253, 253, 205,  11,   0,  43, 154,   0,   0,   0,   0,   0,   0,   0,   0,   0,   0],\n",
       "       [  0,   0,   0,   0,   0,   0,   0,   0,   0,  14,   1, 154, 253,  90,   0,   0,   0,   0,   0,   0,   0,   0,   0,   0,   0,   0,   0,   0],\n",
       "       [  0,   0,   0,   0,   0,   0,   0,   0,   0,   0,   0, 139, 253, 190,   2,   0,   0,   0,   0,   0,   0,   0,   0,   0,   0,   0,   0,   0],\n",
       "       [  0,   0,   0,   0,   0,   0,   0,   0,   0,   0,   0,  11, 190, 253,  70,   0,   0,   0,   0,   0,   0,   0,   0,   0,   0,   0,   0,   0],\n",
       "       [  0,   0,   0,   0,   0,   0,   0,   0,   0,   0,   0,   0,  35, 241, 225, 160, 108,   1,   0,   0,   0,   0,   0,   0,   0,   0,   0,   0],\n",
       "       [  0,   0,   0,   0,   0,   0,   0,   0,   0,   0,   0,   0,   0,  81, 240, 253, 253, 119,  25,   0,   0,   0,   0,   0,   0,   0,   0,   0],\n",
       "       [  0,   0,   0,   0,   0,   0,   0,   0,   0,   0,   0,   0,   0,   0,  45, 186, 253, 253, 150,  27,   0,   0,   0,   0,   0,   0,   0,   0],\n",
       "       [  0,   0,   0,   0,   0,   0,   0,   0,   0,   0,   0,   0,   0,   0,   0,  16,  93, 252, 253, 187,   0,   0,   0,   0,   0,   0,   0,   0],\n",
       "       [  0,   0,   0,   0,   0,   0,   0,   0,   0,   0,   0,   0,   0,   0,   0,   0,   0, 249, 253, 249,  64,   0,   0,   0,   0,   0,   0,   0],\n",
       "       [  0,   0,   0,   0,   0,   0,   0,   0,   0,   0,   0,   0,   0,   0,  46, 130, 183, 253, 253, 207,   2,   0,   0,   0,   0,   0,   0,   0],\n",
       "       [  0,   0,   0,   0,   0,   0,   0,   0,   0,   0,   0,   0,  39, 148, 229, 253, 253, 253, 250, 182,   0,   0,   0,   0,   0,   0,   0,   0],\n",
       "       [  0,   0,   0,   0,   0,   0,   0,   0,   0,   0,  24, 114, 221, 253, 253, 253, 253, 201,  78,   0,   0,   0,   0,   0,   0,   0,   0,   0],\n",
       "       [  0,   0,   0,   0,   0,   0,   0,   0,  23,  66, 213, 253, 253, 253, 253, 198,  81,   2,   0,   0,   0,   0,   0,   0,   0,   0,   0,   0],\n",
       "       [  0,   0,   0,   0,   0,   0,  18, 171, 219, 253, 253, 253, 253, 195,  80,   9,   0,   0,   0,   0,   0,   0,   0,   0,   0,   0,   0,   0],\n",
       "       [  0,   0,   0,   0,  55, 172, 226, 253, 253, 253, 253, 244, 133,  11,   0,   0,   0,   0,   0,   0,   0,   0,   0,   0,   0,   0,   0,   0],\n",
       "       [  0,   0,   0,   0, 136, 253, 253, 253, 212, 135, 132,  16,   0,   0,   0,   0,   0,   0,   0,   0,   0,   0,   0,   0,   0,   0,   0,   0],\n",
       "       [  0,   0,   0,   0,   0,   0,   0,   0,   0,   0,   0,   0,   0,   0,   0,   0,   0,   0,   0,   0,   0,   0,   0,   0,   0,   0,   0,   0],\n",
       "       [  0,   0,   0,   0,   0,   0,   0,   0,   0,   0,   0,   0,   0,   0,   0,   0,   0,   0,   0,   0,   0,   0,   0,   0,   0,   0,   0,   0],\n",
       "       [  0,   0,   0,   0,   0,   0,   0,   0,   0,   0,   0,   0,   0,   0,   0,   0,   0,   0,   0,   0,   0,   0,   0,   0,   0,   0,   0,   0]], dtype=uint8)"
      ]
     },
     "execution_count": 27,
     "metadata": {},
     "output_type": "execute_result"
    }
   ],
   "source": [
    "np.set_printoptions(linewidth=200)\n",
    "trainX[0] #displaying pixel"
   ]
  },
  {
   "cell_type": "code",
   "execution_count": 28,
   "id": "e4856186-e7e9-4b37-83e0-b5faae3e1b26",
   "metadata": {},
   "outputs": [
    {
     "data": {
      "text/plain": [
       "<matplotlib.image.AxesImage at 0x254b861efc0>"
      ]
     },
     "execution_count": 28,
     "metadata": {},
     "output_type": "execute_result"
    },
    {
     "data": {
      "image/png": "[encoded data removed]",
      "text/plain": [
       "<Figure size 640x480 with 1 Axes>"
      ]
     },
     "metadata": {},
     "output_type": "display_data"
    }
   ],
   "source": [
    "plt.imshow(trainX[0]) #Displayin image"
   ]
  },
  {
   "cell_type": "code",
   "execution_count": 29,
   "id": "3a6d6488-80f4-480c-98d8-255006431c61",
   "metadata": {},
   "outputs": [
    {
     "data": {
      "text/plain": [
       "5"
      ]
     },
     "execution_count": 29,
     "metadata": {},
     "output_type": "execute_result"
    }
   ],
   "source": [
    "trainY[0]  # the first image represents the digit 5"
   ]
  },
  {
   "cell_type": "code",
   "execution_count": 30,
   "id": "2e5c657c-c7f4-43e0-b079-3205631fd2fb",
   "metadata": {},
   "outputs": [
    {
     "data": {
      "text/plain": [
       "<matplotlib.image.AxesImage at 0x254b8733ef0>"
      ]
     },
     "execution_count": 30,
     "metadata": {},
     "output_type": "execute_result"
    },
    {
     "data": {
      "image/png": "[encoded data removed]",
      "text/plain": [
       "<Figure size 640x480 with 1 Axes>"
      ]
     },
     "metadata": {},
     "output_type": "display_data"
    }
   ],
   "source": [
    "plt.imshow(trainX[567])"
   ]
  },
  {
   "cell_type": "code",
   "execution_count": 31,
   "id": "5c9944a4-4c23-4fab-9d5b-efda5f9359c0",
   "metadata": {},
   "outputs": [
    {
     "data": {
      "text/plain": [
       "7"
      ]
     },
     "execution_count": 31,
     "metadata": {},
     "output_type": "execute_result"
    }
   ],
   "source": [
    "trainY[567]"
   ]
  },
  {
   "cell_type": "code",
   "execution_count": 32,
   "id": "f2ebcb12-7b5d-4d86-a27c-1841aaa21a00",
   "metadata": {},
   "outputs": [
    {
     "data": {
      "text/plain": [
       "<matplotlib.image.AxesImage at 0x254b8755010>"
      ]
     },
     "execution_count": 32,
     "metadata": {},
     "output_type": "execute_result"
    },
    {
     "data": {
      "image/png": "[encoded data removed]",
      "text/plain": [
       "<Figure size 640x480 with 1 Axes>"
      ]
     },
     "metadata": {},
     "output_type": "display_data"
    }
   ],
   "source": [
    "plt.imshow(testX[8901])"
   ]
  },
  {
   "cell_type": "code",
   "execution_count": 33,
   "id": "95ee1bfc-2403-4e78-9c59-3ea85506d724",
   "metadata": {},
   "outputs": [
    {
     "data": {
      "text/plain": [
       "6"
      ]
     },
     "execution_count": 33,
     "metadata": {},
     "output_type": "execute_result"
    }
   ],
   "source": [
    "testY[8901]"
   ]
  },
  {
   "cell_type": "code",
   "execution_count": 34,
   "id": "391ed19a-94c8-4463-8818-20f69e619a34",
   "metadata": {},
   "outputs": [],
   "source": [
    "#trainY = tf.keras.utils.to_categorical(trainY,num_classes=10)\n",
    "#testY = tf.keras.utils.to_categorical(testY,num_classes=10)"
   ]
  },
  {
   "cell_type": "code",
   "execution_count": 35,
   "id": "76fbeff5-2446-486d-9d58-d56224ac8490",
   "metadata": {},
   "outputs": [],
   "source": [
    "#trainY[0]"
   ]
  },
  {
   "cell_type": "code",
   "execution_count": 36,
   "id": "f6d795ea-2631-4022-a4f7-fcadfd7953a1",
   "metadata": {},
   "outputs": [
    {
     "name": "stdout",
     "output_type": "stream",
     "text": [
      "WARNING:tensorflow:From E:\\Anaconda\\Lib\\site-packages\\keras\\src\\backend\\common\\global_state.py:82: The name tf.reset_default_graph is deprecated. Please use tf.compat.v1.reset_default_graph instead.\n",
      "\n"
     ]
    },
    {
     "name": "stderr",
     "output_type": "stream",
     "text": [
      "WARNING:tensorflow:From E:\\Anaconda\\Lib\\site-packages\\keras\\src\\backend\\common\\global_state.py:82: The name tf.reset_default_graph is deprecated. Please use tf.compat.v1.reset_default_graph instead.\n",
      "\n",
      "E:\\Anaconda\\Lib\\site-packages\\keras\\src\\layers\\reshaping\\reshape.py:39: UserWarning: Do not pass an `input_shape`/`input_dim` argument to a layer. When using Sequential models, prefer using an `Input(shape)` object as the first layer in the model instead.\n",
      "  super().__init__(**kwargs)\n"
     ]
    }
   ],
   "source": [
    "tf.keras.backend.clear_session() #remove the default graph ,if any\n",
    "\n",
    "#intialize Sequential Model\n",
    "model = tf.keras.models.Sequential()\n",
    "#Reshape data from 2D to 1D -> 28*28 to 784\n",
    "#use reshape() or you can use Flatten() also.\n",
    "\n",
    "#This is because ,NN cannot handle 2-D data.it always needs a 1D vector.\n",
    "model.add(tf.keras.layers.Reshape((784,),input_shape=(28,28,)))\n",
    "\n",
    "#Normalize the Data\n",
    "#BatchNormalization takes a batch of data and performs z-Score normalization by taking mean and std of that batch of data\n",
    "model.add(tf.keras.layers.BatchNormalization()) #x-mean/std\n",
    "\n",
    "\n",
    "#Alternatively,the following code does min-max normalization\n",
    "#trainX,testX = trainX/255.0,testX/255.0\n",
    "\n",
    "model.add(tf.keras.layers.Dense(200,activation='sigmoid'))   #Add 1st hidden layers\n",
    "model.add(tf.keras.layers.Dense(100,activation='sigmoid'))   #Add 2nd hidden layers\n",
    "model.add(tf.keras.layers.Dense(60,activation='sigmoid'))    #Add 3rd hiddem layers\n",
    "model.add(tf.keras.layers.Dense(30,activation='sigmoid'))    #Add 4th hidden layers\n",
    "model.add(tf.keras.layers.Dense(10,activation='softmax'))    #Add output layers"
   ]
  },
  {
   "cell_type": "code",
   "execution_count": 37,
   "id": "ac3d4c43-d4e6-4ff6-a0cc-6fd9bc1666a4",
   "metadata": {},
   "outputs": [
    {
     "data": {
      "text/html": [
       "<pre style=\"white-space:pre;overflow-x:auto;line-height:normal;font-family:Menlo,'DejaVu Sans Mono',consolas,'Courier New',monospace\"><span style=\"font-weight: bold\">Model: \"sequential\"</span>\n",
       "</pre>\n"
      ],
      "text/plain": [
       "\u001b[1mModel: \"sequential\"\u001b[0m\n"
      ]
     },
     "metadata": {},
     "output_type": "display_data"
    },
    {
     "data": {
      "text/html": [
       "<pre style=\"white-space:pre;overflow-x:auto;line-height:normal;font-family:Menlo,'DejaVu Sans Mono',consolas,'Courier New',monospace\">┏━━━━━━━━━━━━━━━━━━━━━━━━━━━━━━━━━━━━━━┳━━━━━━━━━━━━━━━━━━━━━━━━━━━━━┳━━━━━━━━━━━━━━━━━┓\n",
       "┃<span style=\"font-weight: bold\"> Layer (type)                         </span>┃<span style=\"font-weight: bold\"> Output Shape                </span>┃<span style=\"font-weight: bold\">         Param # </span>┃\n",
       "┡━━━━━━━━━━━━━━━━━━━━━━━━━━━━━━━━━━━━━━╇━━━━━━━━━━━━━━━━━━━━━━━━━━━━━╇━━━━━━━━━━━━━━━━━┩\n",
       "│ reshape (<span style=\"color: #0087ff; text-decoration-color: #0087ff\">Reshape</span>)                    │ (<span style=\"color: #00d7ff; text-decoration-color: #00d7ff\">None</span>, <span style=\"color: #00af00; text-decoration-color: #00af00\">784</span>)                 │               <span style=\"color: #00af00; text-decoration-color: #00af00\">0</span> │\n",
       "├──────────────────────────────────────┼─────────────────────────────┼─────────────────┤\n",
       "│ batch_normalization                  │ (<span style=\"color: #00d7ff; text-decoration-color: #00d7ff\">None</span>, <span style=\"color: #00af00; text-decoration-color: #00af00\">784</span>)                 │           <span style=\"color: #00af00; text-decoration-color: #00af00\">3,136</span> │\n",
       "│ (<span style=\"color: #0087ff; text-decoration-color: #0087ff\">BatchNormalization</span>)                 │                             │                 │\n",
       "├──────────────────────────────────────┼─────────────────────────────┼─────────────────┤\n",
       "│ dense (<span style=\"color: #0087ff; text-decoration-color: #0087ff\">Dense</span>)                        │ (<span style=\"color: #00d7ff; text-decoration-color: #00d7ff\">None</span>, <span style=\"color: #00af00; text-decoration-color: #00af00\">200</span>)                 │         <span style=\"color: #00af00; text-decoration-color: #00af00\">157,000</span> │\n",
       "├──────────────────────────────────────┼─────────────────────────────┼─────────────────┤\n",
       "│ dense_1 (<span style=\"color: #0087ff; text-decoration-color: #0087ff\">Dense</span>)                      │ (<span style=\"color: #00d7ff; text-decoration-color: #00d7ff\">None</span>, <span style=\"color: #00af00; text-decoration-color: #00af00\">100</span>)                 │          <span style=\"color: #00af00; text-decoration-color: #00af00\">20,100</span> │\n",
       "├──────────────────────────────────────┼─────────────────────────────┼─────────────────┤\n",
       "│ dense_2 (<span style=\"color: #0087ff; text-decoration-color: #0087ff\">Dense</span>)                      │ (<span style=\"color: #00d7ff; text-decoration-color: #00d7ff\">None</span>, <span style=\"color: #00af00; text-decoration-color: #00af00\">60</span>)                  │           <span style=\"color: #00af00; text-decoration-color: #00af00\">6,060</span> │\n",
       "├──────────────────────────────────────┼─────────────────────────────┼─────────────────┤\n",
       "│ dense_3 (<span style=\"color: #0087ff; text-decoration-color: #0087ff\">Dense</span>)                      │ (<span style=\"color: #00d7ff; text-decoration-color: #00d7ff\">None</span>, <span style=\"color: #00af00; text-decoration-color: #00af00\">30</span>)                  │           <span style=\"color: #00af00; text-decoration-color: #00af00\">1,830</span> │\n",
       "├──────────────────────────────────────┼─────────────────────────────┼─────────────────┤\n",
       "│ dense_4 (<span style=\"color: #0087ff; text-decoration-color: #0087ff\">Dense</span>)                      │ (<span style=\"color: #00d7ff; text-decoration-color: #00d7ff\">None</span>, <span style=\"color: #00af00; text-decoration-color: #00af00\">10</span>)                  │             <span style=\"color: #00af00; text-decoration-color: #00af00\">310</span> │\n",
       "└──────────────────────────────────────┴─────────────────────────────┴─────────────────┘\n",
       "</pre>\n"
      ],
      "text/plain": [
       "┏━━━━━━━━━━━━━━━━━━━━━━━━━━━━━━━━━━━━━━┳━━━━━━━━━━━━━━━━━━━━━━━━━━━━━┳━━━━━━━━━━━━━━━━━┓\n",
       "┃\u001b[1m \u001b[0m\u001b[1mLayer (type)                        \u001b[0m\u001b[1m \u001b[0m┃\u001b[1m \u001b[0m\u001b[1mOutput Shape               \u001b[0m\u001b[1m \u001b[0m┃\u001b[1m \u001b[0m\u001b[1m        Param #\u001b[0m\u001b[1m \u001b[0m┃\n",
       "┡━━━━━━━━━━━━━━━━━━━━━━━━━━━━━━━━━━━━━━╇━━━━━━━━━━━━━━━━━━━━━━━━━━━━━╇━━━━━━━━━━━━━━━━━┩\n",
       "│ reshape (\u001b[38;5;33mReshape\u001b[0m)                    │ (\u001b[38;5;45mNone\u001b[0m, \u001b[38;5;34m784\u001b[0m)                 │               \u001b[38;5;34m0\u001b[0m │\n",
       "├──────────────────────────────────────┼─────────────────────────────┼─────────────────┤\n",
       "│ batch_normalization                  │ (\u001b[38;5;45mNone\u001b[0m, \u001b[38;5;34m784\u001b[0m)                 │           \u001b[38;5;34m3,136\u001b[0m │\n",
       "│ (\u001b[38;5;33mBatchNormalization\u001b[0m)                 │                             │                 │\n",
       "├──────────────────────────────────────┼─────────────────────────────┼─────────────────┤\n",
       "│ dense (\u001b[38;5;33mDense\u001b[0m)                        │ (\u001b[38;5;45mNone\u001b[0m, \u001b[38;5;34m200\u001b[0m)                 │         \u001b[38;5;34m157,000\u001b[0m │\n",
       "├──────────────────────────────────────┼─────────────────────────────┼─────────────────┤\n",
       "│ dense_1 (\u001b[38;5;33mDense\u001b[0m)                      │ (\u001b[38;5;45mNone\u001b[0m, \u001b[38;5;34m100\u001b[0m)                 │          \u001b[38;5;34m20,100\u001b[0m │\n",
       "├──────────────────────────────────────┼─────────────────────────────┼─────────────────┤\n",
       "│ dense_2 (\u001b[38;5;33mDense\u001b[0m)                      │ (\u001b[38;5;45mNone\u001b[0m, \u001b[38;5;34m60\u001b[0m)                  │           \u001b[38;5;34m6,060\u001b[0m │\n",
       "├──────────────────────────────────────┼─────────────────────────────┼─────────────────┤\n",
       "│ dense_3 (\u001b[38;5;33mDense\u001b[0m)                      │ (\u001b[38;5;45mNone\u001b[0m, \u001b[38;5;34m30\u001b[0m)                  │           \u001b[38;5;34m1,830\u001b[0m │\n",
       "├──────────────────────────────────────┼─────────────────────────────┼─────────────────┤\n",
       "│ dense_4 (\u001b[38;5;33mDense\u001b[0m)                      │ (\u001b[38;5;45mNone\u001b[0m, \u001b[38;5;34m10\u001b[0m)                  │             \u001b[38;5;34m310\u001b[0m │\n",
       "└──────────────────────────────────────┴─────────────────────────────┴─────────────────┘\n"
      ]
     },
     "metadata": {},
     "output_type": "display_data"
    },
    {
     "data": {
      "text/html": [
       "<pre style=\"white-space:pre;overflow-x:auto;line-height:normal;font-family:Menlo,'DejaVu Sans Mono',consolas,'Courier New',monospace\"><span style=\"font-weight: bold\"> Total params: </span><span style=\"color: #00af00; text-decoration-color: #00af00\">188,436</span> (736.08 KB)\n",
       "</pre>\n"
      ],
      "text/plain": [
       "\u001b[1m Total params: \u001b[0m\u001b[38;5;34m188,436\u001b[0m (736.08 KB)\n"
      ]
     },
     "metadata": {},
     "output_type": "display_data"
    },
    {
     "data": {
      "text/html": [
       "<pre style=\"white-space:pre;overflow-x:auto;line-height:normal;font-family:Menlo,'DejaVu Sans Mono',consolas,'Courier New',monospace\"><span style=\"font-weight: bold\"> Trainable params: </span><span style=\"color: #00af00; text-decoration-color: #00af00\">186,868</span> (729.95 KB)\n",
       "</pre>\n"
      ],
      "text/plain": [
       "\u001b[1m Trainable params: \u001b[0m\u001b[38;5;34m186,868\u001b[0m (729.95 KB)\n"
      ]
     },
     "metadata": {},
     "output_type": "display_data"
    },
    {
     "data": {
      "text/html": [
       "<pre style=\"white-space:pre;overflow-x:auto;line-height:normal;font-family:Menlo,'DejaVu Sans Mono',consolas,'Courier New',monospace\"><span style=\"font-weight: bold\"> Non-trainable params: </span><span style=\"color: #00af00; text-decoration-color: #00af00\">1,568</span> (6.12 KB)\n",
       "</pre>\n"
      ],
      "text/plain": [
       "\u001b[1m Non-trainable params: \u001b[0m\u001b[38;5;34m1,568\u001b[0m (6.12 KB)\n"
      ]
     },
     "metadata": {},
     "output_type": "display_data"
    }
   ],
   "source": [
    "model.summary()"
   ]
  },
  {
   "cell_type": "code",
   "execution_count": 38,
   "id": "7f8c090b-d1d0-4cea-812e-3ae7fd08ee2a",
   "metadata": {},
   "outputs": [],
   "source": [
    "# Create Optimizer With Non-Default Learning Rate\n",
    "\n",
    "sgd_optimizer = tf.keras.optimizers.SGD(learning_rate=0.03)\n",
    "\n",
    "#Compile The Model\n",
    "model.compile(optimizer=sgd_optimizer,loss='sparse_categorical_crossentropy',metrics=['accuracy'])\n",
    "\n",
    "#model.compile(optimizer=sgd_optimizer,loss='categorical_crossentropy',metrics=['accuracy'])"
   ]
  },
  {
   "cell_type": "raw",
   "id": "422730d9-455c-4a4c-a5ae-35484d163570",
   "metadata": {},
   "source": [
    "Train The Model\n",
    "\n",
    "Batch_size is given as 32.That is each batch contains 32 records\n",
    "\n",
    "so, total number of batch = 6000/32=1875\n",
    "\n",
    "in one epoch,the graph will iterate for 1875 times(total number of iteration for one epoch)\n",
    "\n",
    "Total of 30 epochs,so the graph will run 1875*30 = 56250 times"
   ]
  },
  {
   "cell_type": "raw",
   "id": "ada6e18b-7d37-4cb0-95d6-3daf2cb253bd",
   "metadata": {},
   "source": [
    "What is a validation split in Keras? It is the parameter specifying how big chunk of training data will be used for validation. It's a float value between 0 and 1. Validation data is not used for the training, but to evaluate the loss and the accuracy"
   ]
  },
  {
   "cell_type": "code",
   "execution_count": 39,
   "id": "909f5473-8fad-4eb5-9387-a0622bdceb46",
   "metadata": {},
   "outputs": [],
   "source": [
    "#model.fit(trainX,trainY,validation_data=(testX,testY),epochs=30,batch_size=32)"
   ]
  },
  {
   "cell_type": "code",
   "execution_count": 40,
   "id": "b06edea7-4095-4af2-98c4-a430e91d3c74",
   "metadata": {},
   "outputs": [
    {
     "name": "stdout",
     "output_type": "stream",
     "text": [
      "Epoch 1/30\n",
      "\u001b[1m1875/1875\u001b[0m \u001b[32m━━━━━━━━━━━━━━━━━━━━\u001b[0m\u001b[37m\u001b[0m \u001b[1m8s\u001b[0m 4ms/step - accuracy: 0.1125 - loss: 2.3058 - val_accuracy: 0.2296 - val_loss: 2.2769\n",
      "Epoch 2/30\n",
      "\u001b[1m1875/1875\u001b[0m \u001b[32m━━━━━━━━━━━━━━━━━━━━\u001b[0m\u001b[37m\u001b[0m \u001b[1m6s\u001b[0m 3ms/step - accuracy: 0.2354 - loss: 2.2324 - val_accuracy: 0.4247 - val_loss: 1.6816\n",
      "Epoch 3/30\n",
      "\u001b[1m1875/1875\u001b[0m \u001b[32m━━━━━━━━━━━━━━━━━━━━\u001b[0m\u001b[37m\u001b[0m \u001b[1m6s\u001b[0m 3ms/step - accuracy: 0.4440 - loss: 1.5255 - val_accuracy: 0.5761 - val_loss: 1.1965\n",
      "Epoch 4/30\n",
      "\u001b[1m1875/1875\u001b[0m \u001b[32m━━━━━━━━━━━━━━━━━━━━\u001b[0m\u001b[37m\u001b[0m \u001b[1m7s\u001b[0m 4ms/step - accuracy: 0.6032 - loss: 1.1605 - val_accuracy: 0.7718 - val_loss: 0.8664\n",
      "Epoch 5/30\n",
      "\u001b[1m1875/1875\u001b[0m \u001b[32m━━━━━━━━━━━━━━━━━━━━\u001b[0m\u001b[37m\u001b[0m \u001b[1m7s\u001b[0m 4ms/step - accuracy: 0.7816 - loss: 0.8051 - val_accuracy: 0.8557 - val_loss: 0.5538\n",
      "Epoch 6/30\n",
      "\u001b[1m1875/1875\u001b[0m \u001b[32m━━━━━━━━━━━━━━━━━━━━\u001b[0m\u001b[37m\u001b[0m \u001b[1m6s\u001b[0m 3ms/step - accuracy: 0.8439 - loss: 0.5683 - val_accuracy: 0.8800 - val_loss: 0.4507\n",
      "Epoch 7/30\n",
      "\u001b[1m1875/1875\u001b[0m \u001b[32m━━━━━━━━━━━━━━━━━━━━\u001b[0m\u001b[37m\u001b[0m \u001b[1m6s\u001b[0m 3ms/step - accuracy: 0.8689 - loss: 0.4733 - val_accuracy: 0.8933 - val_loss: 0.3897\n",
      "Epoch 8/30\n",
      "\u001b[1m1875/1875\u001b[0m \u001b[32m━━━━━━━━━━━━━━━━━━━━\u001b[0m\u001b[37m\u001b[0m \u001b[1m7s\u001b[0m 4ms/step - accuracy: 0.8834 - loss: 0.4144 - val_accuracy: 0.9070 - val_loss: 0.3445\n",
      "Epoch 9/30\n",
      "\u001b[1m1875/1875\u001b[0m \u001b[32m━━━━━━━━━━━━━━━━━━━━\u001b[0m\u001b[37m\u001b[0m \u001b[1m6s\u001b[0m 3ms/step - accuracy: 0.9005 - loss: 0.3627 - val_accuracy: 0.9155 - val_loss: 0.3088\n",
      "Epoch 10/30\n",
      "\u001b[1m1875/1875\u001b[0m \u001b[32m━━━━━━━━━━━━━━━━━━━━\u001b[0m\u001b[37m\u001b[0m \u001b[1m6s\u001b[0m 3ms/step - accuracy: 0.9089 - loss: 0.3244 - val_accuracy: 0.9259 - val_loss: 0.2728\n",
      "Epoch 11/30\n",
      "\u001b[1m1875/1875\u001b[0m \u001b[32m━━━━━━━━━━━━━━━━━━━━\u001b[0m\u001b[37m\u001b[0m \u001b[1m7s\u001b[0m 3ms/step - accuracy: 0.9242 - loss: 0.2759 - val_accuracy: 0.9338 - val_loss: 0.2461\n",
      "Epoch 12/30\n",
      "\u001b[1m1875/1875\u001b[0m \u001b[32m━━━━━━━━━━━━━━━━━━━━\u001b[0m\u001b[37m\u001b[0m \u001b[1m10s\u001b[0m 5ms/step - accuracy: 0.9330 - loss: 0.2398 - val_accuracy: 0.9407 - val_loss: 0.2218\n",
      "Epoch 13/30\n",
      "\u001b[1m1875/1875\u001b[0m \u001b[32m━━━━━━━━━━━━━━━━━━━━\u001b[0m\u001b[37m\u001b[0m \u001b[1m8s\u001b[0m 4ms/step - accuracy: 0.9398 - loss: 0.2181 - val_accuracy: 0.9445 - val_loss: 0.2083\n",
      "Epoch 14/30\n",
      "\u001b[1m1875/1875\u001b[0m \u001b[32m━━━━━━━━━━━━━━━━━━━━\u001b[0m\u001b[37m\u001b[0m \u001b[1m7s\u001b[0m 4ms/step - accuracy: 0.9449 - loss: 0.1984 - val_accuracy: 0.9484 - val_loss: 0.1915\n",
      "Epoch 15/30\n",
      "\u001b[1m1875/1875\u001b[0m \u001b[32m━━━━━━━━━━━━━━━━━━━━\u001b[0m\u001b[37m\u001b[0m \u001b[1m7s\u001b[0m 4ms/step - accuracy: 0.9499 - loss: 0.1799 - val_accuracy: 0.9518 - val_loss: 0.1788\n",
      "Epoch 16/30\n",
      "\u001b[1m1875/1875\u001b[0m \u001b[32m━━━━━━━━━━━━━━━━━━━━\u001b[0m\u001b[37m\u001b[0m \u001b[1m7s\u001b[0m 4ms/step - accuracy: 0.9546 - loss: 0.1627 - val_accuracy: 0.9518 - val_loss: 0.1765\n",
      "Epoch 17/30\n",
      "\u001b[1m1875/1875\u001b[0m \u001b[32m━━━━━━━━━━━━━━━━━━━━\u001b[0m\u001b[37m\u001b[0m \u001b[1m7s\u001b[0m 4ms/step - accuracy: 0.9602 - loss: 0.1440 - val_accuracy: 0.9560 - val_loss: 0.1589\n",
      "Epoch 18/30\n",
      "\u001b[1m1875/1875\u001b[0m \u001b[32m━━━━━━━━━━━━━━━━━━━━\u001b[0m\u001b[37m\u001b[0m \u001b[1m7s\u001b[0m 4ms/step - accuracy: 0.9625 - loss: 0.1305 - val_accuracy: 0.9597 - val_loss: 0.1480\n",
      "Epoch 19/30\n",
      "\u001b[1m1875/1875\u001b[0m \u001b[32m━━━━━━━━━━━━━━━━━━━━\u001b[0m\u001b[37m\u001b[0m \u001b[1m8s\u001b[0m 4ms/step - accuracy: 0.9674 - loss: 0.1179 - val_accuracy: 0.9598 - val_loss: 0.1465\n",
      "Epoch 20/30\n",
      "\u001b[1m1875/1875\u001b[0m \u001b[32m━━━━━━━━━━━━━━━━━━━━\u001b[0m\u001b[37m\u001b[0m \u001b[1m8s\u001b[0m 4ms/step - accuracy: 0.9704 - loss: 0.1056 - val_accuracy: 0.9625 - val_loss: 0.1414\n",
      "Epoch 21/30\n",
      "\u001b[1m1875/1875\u001b[0m \u001b[32m━━━━━━━━━━━━━━━━━━━━\u001b[0m\u001b[37m\u001b[0m \u001b[1m7s\u001b[0m 4ms/step - accuracy: 0.9712 - loss: 0.1070 - val_accuracy: 0.9612 - val_loss: 0.1439\n",
      "Epoch 22/30\n",
      "\u001b[1m1875/1875\u001b[0m \u001b[32m━━━━━━━━━━━━━━━━━━━━\u001b[0m\u001b[37m\u001b[0m \u001b[1m8s\u001b[0m 4ms/step - accuracy: 0.9748 - loss: 0.0903 - val_accuracy: 0.9616 - val_loss: 0.1386\n",
      "Epoch 23/30\n",
      "\u001b[1m1875/1875\u001b[0m \u001b[32m━━━━━━━━━━━━━━━━━━━━\u001b[0m\u001b[37m\u001b[0m \u001b[1m8s\u001b[0m 4ms/step - accuracy: 0.9741 - loss: 0.0883 - val_accuracy: 0.9633 - val_loss: 0.1388\n",
      "Epoch 24/30\n",
      "\u001b[1m1875/1875\u001b[0m \u001b[32m━━━━━━━━━━━━━━━━━━━━\u001b[0m\u001b[37m\u001b[0m \u001b[1m8s\u001b[0m 4ms/step - accuracy: 0.9787 - loss: 0.0785 - val_accuracy: 0.9634 - val_loss: 0.1372\n",
      "Epoch 25/30\n",
      "\u001b[1m1875/1875\u001b[0m \u001b[32m━━━━━━━━━━━━━━━━━━━━\u001b[0m\u001b[37m\u001b[0m \u001b[1m9s\u001b[0m 5ms/step - accuracy: 0.9788 - loss: 0.0763 - val_accuracy: 0.9657 - val_loss: 0.1305\n",
      "Epoch 26/30\n",
      "\u001b[1m1875/1875\u001b[0m \u001b[32m━━━━━━━━━━━━━━━━━━━━\u001b[0m\u001b[37m\u001b[0m \u001b[1m9s\u001b[0m 5ms/step - accuracy: 0.9794 - loss: 0.0701 - val_accuracy: 0.9657 - val_loss: 0.1298\n",
      "Epoch 27/30\n",
      "\u001b[1m1875/1875\u001b[0m \u001b[32m━━━━━━━━━━━━━━━━━━━━\u001b[0m\u001b[37m\u001b[0m \u001b[1m7s\u001b[0m 4ms/step - accuracy: 0.9823 - loss: 0.0616 - val_accuracy: 0.9676 - val_loss: 0.1264\n",
      "Epoch 28/30\n",
      "\u001b[1m1875/1875\u001b[0m \u001b[32m━━━━━━━━━━━━━━━━━━━━\u001b[0m\u001b[37m\u001b[0m \u001b[1m8s\u001b[0m 4ms/step - accuracy: 0.9821 - loss: 0.0617 - val_accuracy: 0.9654 - val_loss: 0.1358\n",
      "Epoch 29/30\n",
      "\u001b[1m1875/1875\u001b[0m \u001b[32m━━━━━━━━━━━━━━━━━━━━\u001b[0m\u001b[37m\u001b[0m \u001b[1m11s\u001b[0m 4ms/step - accuracy: 0.9840 - loss: 0.0585 - val_accuracy: 0.9682 - val_loss: 0.1220\n",
      "Epoch 30/30\n",
      "\u001b[1m1875/1875\u001b[0m \u001b[32m━━━━━━━━━━━━━━━━━━━━\u001b[0m\u001b[37m\u001b[0m \u001b[1m9s\u001b[0m 5ms/step - accuracy: 0.9839 - loss: 0.0534 - val_accuracy: 0.9660 - val_loss: 0.1308\n"
     ]
    }
   ],
   "source": [
    "history = model.fit(trainX,trainY,validation_data=(testX,testY),epochs=30,batch_size=32)"
   ]
  },
  {
   "cell_type": "code",
   "execution_count": 41,
   "id": "1602cf6d-d2a6-4543-a18d-78c77cfbd2fd",
   "metadata": {},
   "outputs": [],
   "source": [
    "import pandas as pd"
   ]
  },
  {
   "cell_type": "code",
   "execution_count": 42,
   "id": "7f7586f2-fc08-4989-9a5c-85715454c278",
   "metadata": {},
   "outputs": [
    {
     "data": {
      "text/html": [
       "<div>\n",
       "<style scoped>\n",
       "    .dataframe tbody tr th:only-of-type {\n",
       "        vertical-align: middle;\n",
       "    }\n",
       "\n",
       "    .dataframe tbody tr th {\n",
       "        vertical-align: top;\n",
       "    }\n",
       "\n",
       "    .dataframe thead th {\n",
       "        text-align: right;\n",
       "    }\n",
       "</style>\n",
       "<table border=\"1\" class=\"dataframe\">\n",
       "  <thead>\n",
       "    <tr style=\"text-align: right;\">\n",
       "      <th></th>\n",
       "      <th>accuracy</th>\n",
       "      <th>loss</th>\n",
       "      <th>val_accuracy</th>\n",
       "      <th>val_loss</th>\n",
       "      <th>epoch</th>\n",
       "    </tr>\n",
       "  </thead>\n",
       "  <tbody>\n",
       "    <tr>\n",
       "      <th>25</th>\n",
       "      <td>0.979867</td>\n",
       "      <td>0.070497</td>\n",
       "      <td>0.9657</td>\n",
       "      <td>0.129806</td>\n",
       "      <td>25</td>\n",
       "    </tr>\n",
       "    <tr>\n",
       "      <th>26</th>\n",
       "      <td>0.981217</td>\n",
       "      <td>0.065398</td>\n",
       "      <td>0.9676</td>\n",
       "      <td>0.126447</td>\n",
       "      <td>26</td>\n",
       "    </tr>\n",
       "    <tr>\n",
       "      <th>27</th>\n",
       "      <td>0.981650</td>\n",
       "      <td>0.062670</td>\n",
       "      <td>0.9654</td>\n",
       "      <td>0.135780</td>\n",
       "      <td>27</td>\n",
       "    </tr>\n",
       "    <tr>\n",
       "      <th>28</th>\n",
       "      <td>0.983417</td>\n",
       "      <td>0.058473</td>\n",
       "      <td>0.9682</td>\n",
       "      <td>0.122048</td>\n",
       "      <td>28</td>\n",
       "    </tr>\n",
       "    <tr>\n",
       "      <th>29</th>\n",
       "      <td>0.984100</td>\n",
       "      <td>0.054565</td>\n",
       "      <td>0.9660</td>\n",
       "      <td>0.130843</td>\n",
       "      <td>29</td>\n",
       "    </tr>\n",
       "  </tbody>\n",
       "</table>\n",
       "</div>"
      ],
      "text/plain": [
       "    accuracy      loss  val_accuracy  val_loss  epoch\n",
       "25  0.979867  0.070497        0.9657  0.129806     25\n",
       "26  0.981217  0.065398        0.9676  0.126447     26\n",
       "27  0.981650  0.062670        0.9654  0.135780     27\n",
       "28  0.983417  0.058473        0.9682  0.122048     28\n",
       "29  0.984100  0.054565        0.9660  0.130843     29"
      ]
     },
     "execution_count": 42,
     "metadata": {},
     "output_type": "execute_result"
    }
   ],
   "source": [
    "hist = pd.DataFrame(history.history)\n",
    "hist['epoch'] = history.epoch\n",
    "hist.tail()"
   ]
  },
  {
   "cell_type": "code",
   "execution_count": 43,
   "id": "6e30ef95-0346-4fe4-bfeb-be8f6c344ece",
   "metadata": {},
   "outputs": [
    {
     "data": {
      "image/png": "[encoded data removed]",
      "text/plain": [
       "<Figure size 640x480 with 1 Axes>"
      ]
     },
     "metadata": {},
     "output_type": "display_data"
    },
    {
     "data": {
      "image/png": "[encoded data removed]",
      "text/plain": [
       "<Figure size 640x480 with 1 Axes>"
      ]
     },
     "metadata": {},
     "output_type": "display_data"
    }
   ],
   "source": [
    "def plot_history(history):\n",
    "    hist = pd.DataFrame(history.history)\n",
    "    hist['epoch'] = history.epoch\n",
    "    \n",
    "    plt.figure()\n",
    "    plt.xlabel('Epoch')\n",
    "    plt.ylabel('Loss')\n",
    "    plt.plot(hist['epoch'],hist['loss'],label='Train Loss')\n",
    "    plt.plot(hist['epoch'],hist['val_loss'],label = 'Validation Loss')\n",
    "    plt.ylim([0,3])\n",
    "    plt.legend()\n",
    "    \n",
    "    plt.figure()\n",
    "    plt.xlabel('Epoch')\n",
    "    plt.ylabel('Accuracy')\n",
    "    plt.plot(hist['epoch'],hist['accuracy'],label='Train Accuracy')\n",
    "    plt.plot(hist['epoch'],hist['val_accuracy'],label = 'val Accuracy')\n",
    "    plt.ylim([0,1])\n",
    "    plt.legend()\n",
    "    plt.show()\n",
    "plot_history(history)"
   ]
  },
  {
   "cell_type": "markdown",
   "id": "44f3db02-b2ce-472c-b541-f81206ca538f",
   "metadata": {},
   "source": [
    "# Evaluate Accuracy"
   ]
  },
  {
   "cell_type": "code",
   "execution_count": 44,
   "id": "d01acdac-d9df-40d9-8e66-e1e82d275f28",
   "metadata": {},
   "outputs": [],
   "source": [
    "test_loss,test_acc = model.evaluate(testX,testY,verbose=0)"
   ]
  },
  {
   "cell_type": "code",
   "execution_count": 45,
   "id": "a85fd4cb-c7f4-4ab8-a8bc-922ae67a38ef",
   "metadata": {},
   "outputs": [
    {
     "name": "stdout",
     "output_type": "stream",
     "text": [
      "\u001b[1m313/313\u001b[0m \u001b[32m━━━━━━━━━━━━━━━━━━━━\u001b[0m\u001b[37m\u001b[0m \u001b[1m1s\u001b[0m 3ms/step\n"
     ]
    }
   ],
   "source": [
    "predictions = model.predict(testX)"
   ]
  },
  {
   "cell_type": "code",
   "execution_count": 46,
   "id": "d3f4beed-d7a2-4626-8b16-1a54598255c1",
   "metadata": {},
   "outputs": [
    {
     "data": {
      "text/plain": [
       "array([3.1583037e-05, 3.9492847e-05, 1.7094451e-04, 1.5615896e-04, 1.7695267e-05, 3.3750453e-07, 3.3242258e-09, 9.9897897e-01, 5.6639415e-08, 6.0482655e-04], dtype=float32)"
      ]
     },
     "execution_count": 46,
     "metadata": {},
     "output_type": "execute_result"
    }
   ],
   "source": [
    "predictions[0]"
   ]
  },
  {
   "cell_type": "code",
   "execution_count": 47,
   "id": "859556d5-9bfc-49b4-9614-c1d2ba9a37a8",
   "metadata": {},
   "outputs": [
    {
     "data": {
      "text/plain": [
       "7"
      ]
     },
     "execution_count": 47,
     "metadata": {},
     "output_type": "execute_result"
    }
   ],
   "source": [
    "import numpy as np\n",
    "np.argmax(predictions[0])"
   ]
  },
  {
   "cell_type": "code",
   "execution_count": 48,
   "id": "485dd42b-bf86-48f5-8a12-3e5d0558083d",
   "metadata": {},
   "outputs": [
    {
     "data": {
      "text/plain": [
       "7"
      ]
     },
     "execution_count": 48,
     "metadata": {},
     "output_type": "execute_result"
    }
   ],
   "source": [
    "testY[0]"
   ]
  },
  {
   "cell_type": "code",
   "execution_count": 49,
   "id": "874dd7ca-60d9-49eb-a51d-49f84ec0ae7d",
   "metadata": {},
   "outputs": [
    {
     "data": {
      "text/plain": [
       "<matplotlib.image.AxesImage at 0x254b8687b90>"
      ]
     },
     "execution_count": 49,
     "metadata": {},
     "output_type": "execute_result"
    },
    {
     "data": {
      "image/png": "[encoded data removed]",
      "text/plain": [
       "<Figure size 640x480 with 1 Axes>"
      ]
     },
     "metadata": {},
     "output_type": "display_data"
    }
   ],
   "source": [
    "plt.imshow(testX[0])"
   ]
  },
  {
   "cell_type": "code",
   "execution_count": 50,
   "id": "7fa7e76c-a221-4e9a-8d2c-80bcc864b85a",
   "metadata": {},
   "outputs": [],
   "source": [
    "#trainY = tf.keras.utils.to_categorical(trainY,num_classes=10)\n",
    "#testY = tf.keras.utils.to_categorical(testY,num_classes=10)"
   ]
  },
  {
   "cell_type": "code",
   "execution_count": 51,
   "id": "04cda7ef-c90f-41f4-ab26-ca9c44d493a5",
   "metadata": {},
   "outputs": [],
   "source": [
    "#trainY[0]"
   ]
  },
  {
   "cell_type": "markdown",
   "id": "32cd936f-a7e9-4c41-aec1-3603252e9e2a",
   "metadata": {},
   "source": [
    "# confusion Matrix"
   ]
  },
  {
   "cell_type": "code",
   "execution_count": 52,
   "id": "6dee5680-4f79-41a9-a10b-9984dc773550",
   "metadata": {},
   "outputs": [],
   "source": [
    "from sklearn.metrics import confusion_matrix   #multilabel_confusion_matrix"
   ]
  },
  {
   "cell_type": "code",
   "execution_count": 53,
   "id": "5b1cd402-a65b-41f0-8826-7207d0887d89",
   "metadata": {},
   "outputs": [],
   "source": [
    "confusion_matrix = confusion_matrix(testY, np.argmax(predictions, axis=1))"
   ]
  },
  {
   "cell_type": "code",
   "execution_count": 54,
   "id": "407ca03d-d05e-4b17-a102-9b11b16373e8",
   "metadata": {},
   "outputs": [
    {
     "name": "stdout",
     "output_type": "stream",
     "text": [
      "[[ 961    1    3    0    0    3    6    4    1    1]\n",
      " [   0 1122    5    1    0    0    1    1    5    0]\n",
      " [   6    4  997    8    2    1    3   10    1    0]\n",
      " [   0    0   12  975    0    5    1    6   10    1]\n",
      " [   1    0    4    0  950    0   10    4    1   12]\n",
      " [   2    1    1   18    1  856    4    1    7    1]\n",
      " [   4    4    6    0    3    8  926    0    7    0]\n",
      " [   5    5   14    7    3    0    0  981    0   13]\n",
      " [   0    0   11    6    1   15    2    3  933    3]\n",
      " [   4    3    2   10   14    3    0    7    7  959]]\n"
     ]
    }
   ],
   "source": [
    "print(confusion_matrix)"
   ]
  },
  {
   "cell_type": "code",
   "execution_count": 55,
   "id": "904cf860-5006-45f1-882d-040a6fb3546e",
   "metadata": {},
   "outputs": [
    {
     "data": {
      "text/plain": [
       "array([961,   1,   3,   0,   0,   3,   6,   4,   1,   1], dtype=int64)"
      ]
     },
     "execution_count": 55,
     "metadata": {},
     "output_type": "execute_result"
    }
   ],
   "source": [
    "confusion_matrix[0]"
   ]
  },
  {
   "cell_type": "code",
   "execution_count": 56,
   "id": "ad41d1b7-ec50-4462-97c5-39341beb7ad2",
   "metadata": {},
   "outputs": [],
   "source": [
    "df=pd.DataFrame(confusion_matrix,columns=np.arange(0,10),index=np.arange(0,10))"
   ]
  },
  {
   "cell_type": "code",
   "execution_count": 57,
   "id": "352d22f6-d7c0-4614-bb74-98e18598333d",
   "metadata": {},
   "outputs": [
    {
     "data": {
      "text/html": [
       "<div>\n",
       "<style scoped>\n",
       "    .dataframe tbody tr th:only-of-type {\n",
       "        vertical-align: middle;\n",
       "    }\n",
       "\n",
       "    .dataframe tbody tr th {\n",
       "        vertical-align: top;\n",
       "    }\n",
       "\n",
       "    .dataframe thead th {\n",
       "        text-align: right;\n",
       "    }\n",
       "</style>\n",
       "<table border=\"1\" class=\"dataframe\">\n",
       "  <thead>\n",
       "    <tr style=\"text-align: right;\">\n",
       "      <th></th>\n",
       "      <th>0</th>\n",
       "      <th>1</th>\n",
       "      <th>2</th>\n",
       "      <th>3</th>\n",
       "      <th>4</th>\n",
       "      <th>5</th>\n",
       "      <th>6</th>\n",
       "      <th>7</th>\n",
       "      <th>8</th>\n",
       "      <th>9</th>\n",
       "    </tr>\n",
       "  </thead>\n",
       "  <tbody>\n",
       "    <tr>\n",
       "      <th>0</th>\n",
       "      <td>961</td>\n",
       "      <td>1</td>\n",
       "      <td>3</td>\n",
       "      <td>0</td>\n",
       "      <td>0</td>\n",
       "      <td>3</td>\n",
       "      <td>6</td>\n",
       "      <td>4</td>\n",
       "      <td>1</td>\n",
       "      <td>1</td>\n",
       "    </tr>\n",
       "    <tr>\n",
       "      <th>1</th>\n",
       "      <td>0</td>\n",
       "      <td>1122</td>\n",
       "      <td>5</td>\n",
       "      <td>1</td>\n",
       "      <td>0</td>\n",
       "      <td>0</td>\n",
       "      <td>1</td>\n",
       "      <td>1</td>\n",
       "      <td>5</td>\n",
       "      <td>0</td>\n",
       "    </tr>\n",
       "    <tr>\n",
       "      <th>2</th>\n",
       "      <td>6</td>\n",
       "      <td>4</td>\n",
       "      <td>997</td>\n",
       "      <td>8</td>\n",
       "      <td>2</td>\n",
       "      <td>1</td>\n",
       "      <td>3</td>\n",
       "      <td>10</td>\n",
       "      <td>1</td>\n",
       "      <td>0</td>\n",
       "    </tr>\n",
       "    <tr>\n",
       "      <th>3</th>\n",
       "      <td>0</td>\n",
       "      <td>0</td>\n",
       "      <td>12</td>\n",
       "      <td>975</td>\n",
       "      <td>0</td>\n",
       "      <td>5</td>\n",
       "      <td>1</td>\n",
       "      <td>6</td>\n",
       "      <td>10</td>\n",
       "      <td>1</td>\n",
       "    </tr>\n",
       "    <tr>\n",
       "      <th>4</th>\n",
       "      <td>1</td>\n",
       "      <td>0</td>\n",
       "      <td>4</td>\n",
       "      <td>0</td>\n",
       "      <td>950</td>\n",
       "      <td>0</td>\n",
       "      <td>10</td>\n",
       "      <td>4</td>\n",
       "      <td>1</td>\n",
       "      <td>12</td>\n",
       "    </tr>\n",
       "    <tr>\n",
       "      <th>5</th>\n",
       "      <td>2</td>\n",
       "      <td>1</td>\n",
       "      <td>1</td>\n",
       "      <td>18</td>\n",
       "      <td>1</td>\n",
       "      <td>856</td>\n",
       "      <td>4</td>\n",
       "      <td>1</td>\n",
       "      <td>7</td>\n",
       "      <td>1</td>\n",
       "    </tr>\n",
       "    <tr>\n",
       "      <th>6</th>\n",
       "      <td>4</td>\n",
       "      <td>4</td>\n",
       "      <td>6</td>\n",
       "      <td>0</td>\n",
       "      <td>3</td>\n",
       "      <td>8</td>\n",
       "      <td>926</td>\n",
       "      <td>0</td>\n",
       "      <td>7</td>\n",
       "      <td>0</td>\n",
       "    </tr>\n",
       "    <tr>\n",
       "      <th>7</th>\n",
       "      <td>5</td>\n",
       "      <td>5</td>\n",
       "      <td>14</td>\n",
       "      <td>7</td>\n",
       "      <td>3</td>\n",
       "      <td>0</td>\n",
       "      <td>0</td>\n",
       "      <td>981</td>\n",
       "      <td>0</td>\n",
       "      <td>13</td>\n",
       "    </tr>\n",
       "    <tr>\n",
       "      <th>8</th>\n",
       "      <td>0</td>\n",
       "      <td>0</td>\n",
       "      <td>11</td>\n",
       "      <td>6</td>\n",
       "      <td>1</td>\n",
       "      <td>15</td>\n",
       "      <td>2</td>\n",
       "      <td>3</td>\n",
       "      <td>933</td>\n",
       "      <td>3</td>\n",
       "    </tr>\n",
       "    <tr>\n",
       "      <th>9</th>\n",
       "      <td>4</td>\n",
       "      <td>3</td>\n",
       "      <td>2</td>\n",
       "      <td>10</td>\n",
       "      <td>14</td>\n",
       "      <td>3</td>\n",
       "      <td>0</td>\n",
       "      <td>7</td>\n",
       "      <td>7</td>\n",
       "      <td>959</td>\n",
       "    </tr>\n",
       "  </tbody>\n",
       "</table>\n",
       "</div>"
      ],
      "text/plain": [
       "     0     1    2    3    4    5    6    7    8    9\n",
       "0  961     1    3    0    0    3    6    4    1    1\n",
       "1    0  1122    5    1    0    0    1    1    5    0\n",
       "2    6     4  997    8    2    1    3   10    1    0\n",
       "3    0     0   12  975    0    5    1    6   10    1\n",
       "4    1     0    4    0  950    0   10    4    1   12\n",
       "5    2     1    1   18    1  856    4    1    7    1\n",
       "6    4     4    6    0    3    8  926    0    7    0\n",
       "7    5     5   14    7    3    0    0  981    0   13\n",
       "8    0     0   11    6    1   15    2    3  933    3\n",
       "9    4     3    2   10   14    3    0    7    7  959"
      ]
     },
     "execution_count": 57,
     "metadata": {},
     "output_type": "execute_result"
    }
   ],
   "source": [
    "df"
   ]
  },
  {
   "cell_type": "code",
   "execution_count": 58,
   "id": "3fbca57b-20ba-42dd-8fc6-d4ffdde6e4b2",
   "metadata": {},
   "outputs": [
    {
     "data": {
      "text/plain": [
       "array([[ 961,    1,    3,    0,    0,    3,    6,    4,    1,    1],\n",
       "       [   0, 1122,    5,    1,    0,    0,    1,    1,    5,    0],\n",
       "       [   6,    4,  997,    8,    2,    1,    3,   10,    1,    0],\n",
       "       [   0,    0,   12,  975,    0,    5,    1,    6,   10,    1],\n",
       "       [   1,    0,    4,    0,  950,    0,   10,    4,    1,   12],\n",
       "       [   2,    1,    1,   18,    1,  856,    4,    1,    7,    1],\n",
       "       [   4,    4,    6,    0,    3,    8,  926,    0,    7,    0],\n",
       "       [   5,    5,   14,    7,    3,    0,    0,  981,    0,   13],\n",
       "       [   0,    0,   11,    6,    1,   15,    2,    3,  933,    3],\n",
       "       [   4,    3,    2,   10,   14,    3,    0,    7,    7,  959]], dtype=int64)"
      ]
     },
     "execution_count": 58,
     "metadata": {},
     "output_type": "execute_result"
    }
   ],
   "source": [
    "confusion_matrix"
   ]
  },
  {
   "cell_type": "code",
   "execution_count": 59,
   "id": "b825dc0e-dc16-4480-9657-68e6c227020c",
   "metadata": {},
   "outputs": [],
   "source": [
    "l=[]\n",
    "for i in range(0,10):\n",
    "    ct=0\n",
    "    for j in range(0,10):\n",
    "        if i!=j:\n",
    "            ct=ct+confusion_matrix[i][j]\n",
    "    l.append(ct)"
   ]
  },
  {
   "cell_type": "code",
   "execution_count": 60,
   "id": "bd2d87f8-28bf-4574-8c9b-3440843dd35c",
   "metadata": {},
   "outputs": [
    {
     "name": "stdout",
     "output_type": "stream",
     "text": [
      "[19, 13, 35, 35, 32, 36, 32, 47, 41, 50]\n"
     ]
    }
   ],
   "source": [
    "print(l)"
   ]
  },
  {
   "cell_type": "code",
   "execution_count": 61,
   "id": "a727bd14-4825-4257-b932-4785f8b3972b",
   "metadata": {},
   "outputs": [
    {
     "data": {
      "text/plain": [
       "3"
      ]
     },
     "execution_count": 61,
     "metadata": {},
     "output_type": "execute_result"
    }
   ],
   "source": [
    "confusion_matrix[0][2]"
   ]
  },
  {
   "cell_type": "code",
   "execution_count": 62,
   "id": "aa0d38fc-1a7f-4320-a057-38a40ba36f53",
   "metadata": {},
   "outputs": [],
   "source": [
    "df2 = pd.DataFrame(l,columns=['misclassification'])"
   ]
  },
  {
   "cell_type": "code",
   "execution_count": 63,
   "id": "14dc0f3c-cc21-47f4-9062-a6ecc277f57a",
   "metadata": {},
   "outputs": [
    {
     "data": {
      "text/html": [
       "<div>\n",
       "<style scoped>\n",
       "    .dataframe tbody tr th:only-of-type {\n",
       "        vertical-align: middle;\n",
       "    }\n",
       "\n",
       "    .dataframe tbody tr th {\n",
       "        vertical-align: top;\n",
       "    }\n",
       "\n",
       "    .dataframe thead th {\n",
       "        text-align: right;\n",
       "    }\n",
       "</style>\n",
       "<table border=\"1\" class=\"dataframe\">\n",
       "  <thead>\n",
       "    <tr style=\"text-align: right;\">\n",
       "      <th></th>\n",
       "      <th>misclassification</th>\n",
       "    </tr>\n",
       "  </thead>\n",
       "  <tbody>\n",
       "    <tr>\n",
       "      <th>0</th>\n",
       "      <td>19</td>\n",
       "    </tr>\n",
       "    <tr>\n",
       "      <th>1</th>\n",
       "      <td>13</td>\n",
       "    </tr>\n",
       "    <tr>\n",
       "      <th>2</th>\n",
       "      <td>35</td>\n",
       "    </tr>\n",
       "    <tr>\n",
       "      <th>3</th>\n",
       "      <td>35</td>\n",
       "    </tr>\n",
       "    <tr>\n",
       "      <th>4</th>\n",
       "      <td>32</td>\n",
       "    </tr>\n",
       "    <tr>\n",
       "      <th>5</th>\n",
       "      <td>36</td>\n",
       "    </tr>\n",
       "    <tr>\n",
       "      <th>6</th>\n",
       "      <td>32</td>\n",
       "    </tr>\n",
       "    <tr>\n",
       "      <th>7</th>\n",
       "      <td>47</td>\n",
       "    </tr>\n",
       "    <tr>\n",
       "      <th>8</th>\n",
       "      <td>41</td>\n",
       "    </tr>\n",
       "    <tr>\n",
       "      <th>9</th>\n",
       "      <td>50</td>\n",
       "    </tr>\n",
       "  </tbody>\n",
       "</table>\n",
       "</div>"
      ],
      "text/plain": [
       "   misclassification\n",
       "0                 19\n",
       "1                 13\n",
       "2                 35\n",
       "3                 35\n",
       "4                 32\n",
       "5                 36\n",
       "6                 32\n",
       "7                 47\n",
       "8                 41\n",
       "9                 50"
      ]
     },
     "execution_count": 63,
     "metadata": {},
     "output_type": "execute_result"
    }
   ],
   "source": [
    "df2"
   ]
  },
  {
   "cell_type": "code",
   "execution_count": 64,
   "id": "5a4ed5d5-8c3d-47db-9d70-87311b01549d",
   "metadata": {},
   "outputs": [
    {
     "data": {
      "text/plain": [
       "array([[6.61396698e-05, 5.64913250e-07, 9.60175894e-05, 3.02530601e-09, 9.98840272e-01, 2.88572846e-06, 5.25315932e-04, 1.45653961e-04, 1.32903165e-06, 3.21794301e-04],\n",
       "       [9.98351097e-01, 4.34322162e-11, 3.48395930e-04, 1.51886934e-06, 5.43470451e-05, 9.58889606e-04, 1.77071939e-04, 1.08560715e-04, 4.33059668e-08, 1.07711415e-07],\n",
       "       [1.62612982e-04, 7.49336541e-05, 9.97858107e-01, 3.76003474e-04, 4.93157895e-05, 7.18920091e-07, 3.73293551e-05, 1.43413863e-03, 6.13802558e-06, 7.15413478e-07],\n",
       "       [1.62612982e-04, 7.49336541e-05, 9.97858107e-01, 3.76003474e-04, 4.93157895e-05, 7.18920091e-07, 3.73293551e-05, 1.43413863e-03, 6.13802558e-06, 7.15413478e-07],\n",
       "       [7.12433177e-07, 4.96432986e-05, 2.00613504e-04, 9.99282420e-01, 2.41171771e-09, 3.37910082e-04, 3.78377241e-09, 9.68392123e-06, 1.04758838e-04, 1.42548060e-05],\n",
       "       [9.34096752e-05, 1.80616189e-05, 1.21101027e-03, 1.37418581e-04, 3.65366905e-05, 2.21861256e-07, 1.07747278e-08, 9.98329699e-01, 2.89744229e-08, 1.73591325e-04],\n",
       "       [7.12433177e-07, 4.96432986e-05, 2.00613504e-04, 9.99282420e-01, 2.41171771e-09, 3.37910082e-04, 3.78377241e-09, 9.68392123e-06, 1.04758838e-04, 1.42548060e-05],\n",
       "       [2.00464128e-05, 9.54464704e-05, 9.98984516e-01, 2.23376497e-04, 1.69805226e-05, 2.79286178e-06, 5.71634388e-04, 9.72182715e-06, 7.54267894e-05, 1.17561314e-07],\n",
       "       [2.10584491e-04, 5.65372329e-06, 8.32863851e-04, 5.19146088e-05, 4.73337532e-05, 2.61364875e-07, 1.44453356e-08, 9.98770773e-01, 6.39114361e-09, 8.05211967e-05],\n",
       "       [4.12427326e-04, 1.93118822e-07, 2.43267888e-04, 6.55885515e-08, 7.39815761e-04, 8.39096436e-04, 9.97564316e-01, 1.32997627e-07, 2.00351118e-04, 3.69255787e-07]], dtype=float32)"
      ]
     },
     "execution_count": 64,
     "metadata": {},
     "output_type": "execute_result"
    }
   ],
   "source": [
    "predictions[l]"
   ]
  },
  {
   "cell_type": "markdown",
   "id": "f9ab5d75-0e9b-45ba-90b2-7e257d111924",
   "metadata": {},
   "source": [
    "# second Method"
   ]
  },
  {
   "cell_type": "code",
   "execution_count": 65,
   "id": "a40be25d-5d7c-4529-b81c-d526f18839be",
   "metadata": {},
   "outputs": [],
   "source": [
    "classes = [i for i in range(10)]\n",
    "\n",
    "#predict the values from the validation dataset\n",
    "#Y_pred = model.predict(testX)\n",
    "\n",
    "Y_pred_classes = np.argmax(predictions,axis=1)"
   ]
  },
  {
   "cell_type": "code",
   "execution_count": 66,
   "id": "dc10d2c0-3f1b-433f-b49c-bfb47cec05db",
   "metadata": {},
   "outputs": [
    {
     "name": "stdout",
     "output_type": "stream",
     "text": [
      "[[ 961    1    3    0    0    3    6    4    1    1]\n",
      " [   0 1122    5    1    0    0    1    1    5    0]\n",
      " [   6    4  997    8    2    1    3   10    1    0]\n",
      " [   0    0   12  975    0    5    1    6   10    1]\n",
      " [   1    0    4    0  950    0   10    4    1   12]\n",
      " [   2    1    1   18    1  856    4    1    7    1]\n",
      " [   4    4    6    0    3    8  926    0    7    0]\n",
      " [   5    5   14    7    3    0    0  981    0   13]\n",
      " [   0    0   11    6    1   15    2    3  933    3]\n",
      " [   4    3    2   10   14    3    0    7    7  959]]\n"
     ]
    }
   ],
   "source": [
    "from sklearn.metrics import confusion_matrix\n",
    "confusion_mtx = confusion_matrix(testY,Y_pred_classes)\n",
    "print(confusion_mtx)"
   ]
  },
  {
   "cell_type": "code",
   "execution_count": 67,
   "id": "1d617bda-cdef-42b7-a03b-63bb593576d4",
   "metadata": {},
   "outputs": [
    {
     "data": {
      "text/plain": [
       "{0: 19, 1: 13, 2: 35, 3: 35, 4: 32, 5: 36, 6: 32, 7: 47, 8: 41, 9: 50}"
      ]
     },
     "execution_count": 67,
     "metadata": {},
     "output_type": "execute_result"
    }
   ],
   "source": [
    "misclassified_count  = {}\n",
    "for i in range(10):\n",
    "    for j in range(10):\n",
    "        if i!=j:\n",
    "            misclassified_count[i] = misclassified_count.get(i,0)+confusion_mtx[i][j]\n",
    "misclassified_count"
   ]
  },
  {
   "cell_type": "code",
   "execution_count": 68,
   "id": "5d1012eb-27ac-4b36-b45e-76eaa53c8c40",
   "metadata": {},
   "outputs": [
    {
     "data": {
      "text/html": [
       "<div>\n",
       "<style scoped>\n",
       "    .dataframe tbody tr th:only-of-type {\n",
       "        vertical-align: middle;\n",
       "    }\n",
       "\n",
       "    .dataframe tbody tr th {\n",
       "        vertical-align: top;\n",
       "    }\n",
       "\n",
       "    .dataframe thead th {\n",
       "        text-align: right;\n",
       "    }\n",
       "</style>\n",
       "<table border=\"1\" class=\"dataframe\">\n",
       "  <thead>\n",
       "    <tr style=\"text-align: right;\">\n",
       "      <th></th>\n",
       "      <th>classname</th>\n",
       "      <th>missclassification</th>\n",
       "    </tr>\n",
       "  </thead>\n",
       "  <tbody>\n",
       "    <tr>\n",
       "      <th>0</th>\n",
       "      <td>0</td>\n",
       "      <td>19</td>\n",
       "    </tr>\n",
       "    <tr>\n",
       "      <th>1</th>\n",
       "      <td>1</td>\n",
       "      <td>13</td>\n",
       "    </tr>\n",
       "    <tr>\n",
       "      <th>2</th>\n",
       "      <td>2</td>\n",
       "      <td>35</td>\n",
       "    </tr>\n",
       "    <tr>\n",
       "      <th>3</th>\n",
       "      <td>3</td>\n",
       "      <td>35</td>\n",
       "    </tr>\n",
       "    <tr>\n",
       "      <th>4</th>\n",
       "      <td>4</td>\n",
       "      <td>32</td>\n",
       "    </tr>\n",
       "    <tr>\n",
       "      <th>5</th>\n",
       "      <td>5</td>\n",
       "      <td>36</td>\n",
       "    </tr>\n",
       "    <tr>\n",
       "      <th>6</th>\n",
       "      <td>6</td>\n",
       "      <td>32</td>\n",
       "    </tr>\n",
       "    <tr>\n",
       "      <th>7</th>\n",
       "      <td>7</td>\n",
       "      <td>47</td>\n",
       "    </tr>\n",
       "    <tr>\n",
       "      <th>8</th>\n",
       "      <td>8</td>\n",
       "      <td>41</td>\n",
       "    </tr>\n",
       "    <tr>\n",
       "      <th>9</th>\n",
       "      <td>9</td>\n",
       "      <td>50</td>\n",
       "    </tr>\n",
       "  </tbody>\n",
       "</table>\n",
       "</div>"
      ],
      "text/plain": [
       "   classname  missclassification\n",
       "0          0                  19\n",
       "1          1                  13\n",
       "2          2                  35\n",
       "3          3                  35\n",
       "4          4                  32\n",
       "5          5                  36\n",
       "6          6                  32\n",
       "7          7                  47\n",
       "8          8                  41\n",
       "9          9                  50"
      ]
     },
     "execution_count": 68,
     "metadata": {},
     "output_type": "execute_result"
    }
   ],
   "source": [
    "miss_classs_df = pd.DataFrame(data = {'classname':misclassified_count.keys(),'missclassification':misclassified_count.values()},)\n",
    "miss_classs_df"
   ]
  },
  {
   "cell_type": "markdown",
   "id": "b52c6680-0829-4463-b050-5d29a248495d",
   "metadata": {},
   "source": [
    "# Third Method"
   ]
  },
  {
   "cell_type": "code",
   "execution_count": 69,
   "id": "f1a63017-84bc-4c26-96c6-0b06766aae41",
   "metadata": {},
   "outputs": [
    {
     "data": {
      "text/plain": [
       "{0: 19, 1: 13, 2: 35, 3: 35, 4: 32, 5: 36, 6: 32, 7: 47, 8: 41, 9: 50}"
      ]
     },
     "execution_count": 69,
     "metadata": {},
     "output_type": "execute_result"
    }
   ],
   "source": [
    "count = {}\n",
    "for i in range(10):    \n",
    "    a = confusion_mtx[i]\n",
    "    a = np.delete(a, i)\n",
    "    count[i] = a.sum()\n",
    "count"
   ]
  },
  {
   "cell_type": "markdown",
   "id": "387b4e82-1f27-414b-9375-3b48e0f08e17",
   "metadata": {},
   "source": [
    "# Fourth "
   ]
  },
  {
   "cell_type": "code",
   "execution_count": 70,
   "id": "1cc9f46b-98a8-4bf9-b1ee-abc8cea3740a",
   "metadata": {},
   "outputs": [
    {
     "data": {
      "text/plain": [
       "array([[ 961,    1,    3,    0,    0,    3,    6,    4,    1,    1],\n",
       "       [   0, 1122,    5,    1,    0,    0,    1,    1,    5,    0],\n",
       "       [   6,    4,  997,    8,    2,    1,    3,   10,    1,    0],\n",
       "       [   0,    0,   12,  975,    0,    5,    1,    6,   10,    1],\n",
       "       [   1,    0,    4,    0,  950,    0,   10,    4,    1,   12],\n",
       "       [   2,    1,    1,   18,    1,  856,    4,    1,    7,    1],\n",
       "       [   4,    4,    6,    0,    3,    8,  926,    0,    7,    0],\n",
       "       [   5,    5,   14,    7,    3,    0,    0,  981,    0,   13],\n",
       "       [   0,    0,   11,    6,    1,   15,    2,    3,  933,    3],\n",
       "       [   4,    3,    2,   10,   14,    3,    0,    7,    7,  959]], dtype=int64)"
      ]
     },
     "execution_count": 70,
     "metadata": {},
     "output_type": "execute_result"
    }
   ],
   "source": [
    "cm  = confusion_matrix(testY,np.argmax(predictions,axis=1))\n",
    "cm"
   ]
  },
  {
   "cell_type": "code",
   "execution_count": 71,
   "id": "238800fe-403f-42bc-a60c-f2fdfb8daef8",
   "metadata": {},
   "outputs": [
    {
     "data": {
      "text/plain": [
       "numpy.int64"
      ]
     },
     "execution_count": 71,
     "metadata": {},
     "output_type": "execute_result"
    }
   ],
   "source": [
    "type(cm[0][0])"
   ]
  },
  {
   "cell_type": "raw",
   "id": "4b6f3443-ea19-486e-8120-aae7ffdbcee5",
   "metadata": {},
   "source": [
    "# Create Optimizer With Non-Default Learning Rate\n",
    "\n",
    "sgd_optimizer = tf.keras.optimizers.SGD(learning_rate=0.03)\n",
    "\n",
    "#Compile The Model\n",
    "model.compile(optimizer=sgd_optimizer,loss='sparse_categorical_crossentropy',metrics=['accuracy'])\n",
    "\n",
    "#model.compile(optimizer=sgd_optimizer,loss='categorical_crossentropy',metrics=['accuracy'])"
   ]
  },
  {
   "cell_type": "code",
   "execution_count": null,
   "id": "628df386-dfc7-4d31-9950-0d37a7e4f7e9",
   "metadata": {},
   "outputs": [],
   "source": []
  }
 ],
 "metadata": {
  "kernelspec": {
   "display_name": "Python 3 (ipykernel)",
   "language": "python",
   "name": "python3"
  },
  "language_info": {
   "codemirror_mode": {
    "name": "ipython",
    "version": 3
   },
   "file_extension": ".py",
   "mimetype": "text/x-python",
   "name": "python",
   "nbconvert_exporter": "python",
   "pygments_lexer": "ipython3",
   "version": "3.12.7"
  }
 },
 "nbformat": 4,
 "nbformat_minor": 5
}
